{
 "cells": [
  {
   "cell_type": "code",
   "execution_count": null,
   "id": "c3359dbc",
   "metadata": {},
   "outputs": [],
   "source": [
    "#https://www.codexa.net/kaggle-mercari-price-suggestion-challenge/\n",
    "#https://www.kaggle.com/c/mercari-price-suggestion-challenge"
   ]
  },
  {
   "cell_type": "code",
   "execution_count": null,
   "id": "15605d6e",
   "metadata": {},
   "outputs": [],
   "source": [
    "import numpy as np\n",
    "import pandas as pd\n",
    "from sklearn.ensemble import RandomForestRegressor, RandomForestClassifier\n",
    "from sklearn import metrics\n",
    "from sklearn.model_selection import train_test_split\n",
    "\n",
    "from IPython.display import display\n",
    "pd.set_option('display.float_format', lambda x:'%.5f' % x)"
   ]
  },
  {
   "cell_type": "code",
   "execution_count": null,
   "id": "edb4cc03",
   "metadata": {},
   "outputs": [],
   "source": [
    "#解凍の仕方は別で検索\n",
    "\n",
    "#データタイプを指定\n",
    "types_dict_train = {'train_id':'int64', 'item_condition_id':'int8', 'price':'float64', 'shipping':'int8'}\n",
    "types_dict_test = {'test_id':'int64', 'item_condition_id':'int8', 'shipping':'int8'}\n",
    "#tsvファイルからPandas DataFrameへ読み込み\n",
    "train = pd.read_csv('train.tsv', delimiter='\\t', low_memory=True, dtype=types_dict_train)\n",
    "test = pd.read_csv('test.tsv', delimiter='\\t', low_memory=True, dtype=types_dict_test)"
   ]
  },
  {
   "cell_type": "code",
   "execution_count": null,
   "id": "10dae212",
   "metadata": {},
   "outputs": [],
   "source": [
    "#trainとtestの確認&要素の確認\n",
    "train.head()\n",
    "test.head()\n",
    "#サイズを確認\n",
    "train.shape\n",
    "test.shape"
   ]
  },
  {
   "cell_type": "code",
   "execution_count": null,
   "id": "a37cd8b0",
   "metadata": {},
   "outputs": [],
   "source": [
    "#表示関数\n",
    "def display_all(df):\n",
    "    with pd.option_context(\"display.max_rows\", 1000):\n",
    "        with pd.option_context(\"display.max_columns\", 1000):\n",
    "            display(df)\n",
    "\n",
    "#trainの基本統計量を表示\n",
    "display_all(train.describe(include='all').transpose())"
   ]
  },
  {
   "cell_type": "code",
   "execution_count": null,
   "id": "b613c703",
   "metadata": {},
   "outputs": [],
   "source": [
    "#カテゴリ名、商品説明、投稿タイトル、ブランド名のデータタイプを「category」へ変換\n",
    "train.category_name = train.category_name.astype('category')\n",
    "train.item_description = train.item_description.astype('category')\n",
    "train.name = train.name.astype('category')\n",
    "train.brand_name = train.brand_name.astype('category')\n",
    "\n",
    "test.category_name = test.category_name.astype('category')\n",
    "test.item_description = test.item_description.astype('category')\n",
    "test.name = test.name.astype('category')\n",
    "test.brand_name = test.brand_name.astype('category')\n",
    " \n",
    "#データ形式の確認\n",
    "train.dtypes\n",
    "test.dtypes"
   ]
  },
  {
   "cell_type": "code",
   "execution_count": null,
   "id": "2fa9a0a1",
   "metadata": {},
   "outputs": [],
   "source": [
    "#ユニークな値の確認\n",
    "train.apply(lambda x: x.nunique())\n",
    "\n",
    "test.apply(lambda x: x.nunique())"
   ]
  },
  {
   "cell_type": "code",
   "execution_count": null,
   "id": "c524ca44",
   "metadata": {},
   "outputs": [],
   "source": [
    "#欠損データの個数と割合\n",
    "train.isnull().sum()\n",
    "train.isnull().sum()/train.shape[0]\n",
    "\n",
    "test.isnull().sum()\n",
    "test.isnull().sum()/test.shape[0]"
   ]
  },
  {
   "cell_type": "code",
   "execution_count": null,
   "id": "602d0f9e",
   "metadata": {},
   "outputs": [],
   "source": [
    "#ここから事前処理\n",
    "\n",
    "#trainとtestのデータを連結させる\n",
    "#連結させたDataFrameの文字列のデータ形式を「cateogry」へ変換\n",
    "#文字列を数値へ値を変換\n",
    "#訓練用データの「price」をnp.log()で処理\n",
    "#ランダムフォレスト用にxとy（ターゲット）で分ける"
   ]
  },
  {
   "cell_type": "code",
   "execution_count": null,
   "id": "0cf80fba",
   "metadata": {},
   "outputs": [],
   "source": [
    "#idを変更\n",
    "train = train.rename(columns = {'train_id':'id'})\n",
    "test = test.rename(columns = {'test_id':'id'})\n",
    " \n",
    "#TrainとTestを戻せるようコラム追加\n",
    "train['is_train'] = 1\n",
    "test['is_train'] = 0\n",
    " \n",
    "#連結(Priceは除く)\n",
    "train_test_combine = pd.concat([train.drop(['price'], axis=1),test],axis=0)\n",
    " \n",
    "#確認\n",
    "train_test_combine.head()\n",
    "train_test_combine.shape"
   ]
  },
  {
   "cell_type": "code",
   "execution_count": null,
   "id": "c1a29de4",
   "metadata": {},
   "outputs": [],
   "source": [
    "#文字列のデータタイプを「category」へ変換\n",
    "#結合したものは別個で変換する必要がある\n",
    "train_test_combine.category_name = train_test_combine.category_name.astype('category')\n",
    "train_test_combine.item_description = train_test_combine.item_description.astype('category')\n",
    "train_test_combine.name = train_test_combine.name.astype('category')\n",
    "train_test_combine.brand_name = train_test_combine.brand_name.astype('category')\n",
    " \n",
    "#文字列を数値へ変換する\n",
    "#.cat.codesで数値変換ができる\n",
    "train_test_combine.name = train_test_combine.name.cat.codes\n",
    "train_test_combine.category_name = train_test_combine.category_name.cat.codes\n",
    "train_test_combine.brand_name = train_test_combine.brand_name.cat.codes\n",
    "train_test_combine.item_description = train_test_combine.item_description.cat.codes\n",
    " \n",
    "#確認\n",
    "train_test_combine.head()\n",
    "train_test_combine.dtypes"
   ]
  },
  {
   "cell_type": "code",
   "execution_count": null,
   "id": "9860e98f",
   "metadata": {},
   "outputs": [],
   "source": [
    "#testとtrainを分割する\n",
    "df_test = train_test_combine.loc[train_test_combine['is_train'] == 0]\n",
    "df_train = train_test_combine.loc[train_test_combine['is_train'] == 1]\n",
    " \n",
    "#判別用に作ったコラムを削除\n",
    "df_test = df_test.drop(['is_train'], axis=1)\n",
    "df_train = df_train.drop(['is_train'], axis=1)\n",
    " \n",
    "#確認\n",
    "df_test.shape\n",
    "df_train.shape"
   ]
  },
  {
   "cell_type": "code",
   "execution_count": null,
   "id": "8389abc6",
   "metadata": {},
   "outputs": [],
   "source": [
    "#Priceを戻す\n",
    "df_train['price'] = train.price\n",
    " \n",
    "#正規化\n",
    "df_train['price'] = df_train['price'].apply(lambda x: np.log(x) if x>0 else x)\n",
    " \n",
    "#確認\n",
    "df_train.head()"
   ]
  },
  {
   "cell_type": "code",
   "execution_count": null,
   "id": "5019ab34",
   "metadata": {},
   "outputs": [],
   "source": [
    "# x ＝ price以外の全ての値、y = price（ターゲット）で切り分ける\n",
    "x_train = df_train.drop(['price'], axis=1)\n",
    "y_train = df_train.price\n",
    "\n",
    "# モデルの作成\n",
    "m = RandomForestRegressor(n_jobs=-1, min_samples_leaf=5, n_estimators=200)\n",
    "m.fit(x_train, y_train)\n",
    " \n",
    "# スコアを表示\n",
    "m.score(x_train, y_train)"
   ]
  },
  {
   "cell_type": "code",
   "execution_count": null,
   "id": "49e70c73",
   "metadata": {},
   "outputs": [],
   "source": [
    "#予測する\n",
    "preds = m.predict(df_test)\n",
    " \n",
    "#正規化を元に戻す\n",
    "np.exp(preds)\n",
    " \n",
    "#Numpy配列からpandasシリーズへ変換\n",
    "preds = pd.Series(np.exp(preds))\n",
    " \n",
    "#IDと予測値を連結\n",
    "submit = pd.concat([df_test.id, preds], axis=1)\n",
    " \n",
    "#メルカリの提出指定の名前をつける\n",
    "submit.columns = ['test_id', 'price']\n",
    " \n",
    "#CSVへ書き出し\n",
    "submit.to_csv('submit_rf_base.csv', index=False)\n",
    " "
   ]
  },
  {
   "cell_type": "code",
   "execution_count": null,
   "id": "ea2e7358",
   "metadata": {},
   "outputs": [],
   "source": []
  }
 ],
 "metadata": {
  "kernelspec": {
   "display_name": "Python 3",
   "language": "python",
   "name": "python3"
  },
  "language_info": {
   "codemirror_mode": {
    "name": "ipython",
    "version": 3
   },
   "file_extension": ".py",
   "mimetype": "text/x-python",
   "name": "python",
   "nbconvert_exporter": "python",
   "pygments_lexer": "ipython3",
   "version": "3.9.5"
  }
 },
 "nbformat": 4,
 "nbformat_minor": 5
}
