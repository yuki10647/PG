{
 "cells": [
  {
   "cell_type": "code",
   "execution_count": null,
   "id": "1e69cc4c",
   "metadata": {},
   "outputs": [],
   "source": [
    "#https://qiita.com/jun40vn/items/d8a1f71fae680589e05c\n",
    "import numpy as np\n",
    "import pandas as pd\n",
    "import matplotlib.pyplot as plt\n",
    "import seaborn as sns"
   ]
  },
  {
   "cell_type": "code",
   "execution_count": null,
   "id": "15b77c7b",
   "metadata": {},
   "outputs": [],
   "source": [
    "# データセットの読み込み\n",
    "train_data = pd.read_csv('TrainOfTitanic.csv')\n",
    "test_data = pd.read_csv('TestOfTitanic.csv')"
   ]
  },
  {
   "cell_type": "code",
   "execution_count": null,
   "id": "b867f1d1",
   "metadata": {},
   "outputs": [],
   "source": [
    "# train_dataとtest_dataの連結\n",
    "test_data['Survived'] = np.nan\n",
    "df = pd.concat([train_data, test_data], ignore_index=True, sort=False)"
   ]
  },
  {
   "cell_type": "code",
   "execution_count": null,
   "id": "52ffc3f8",
   "metadata": {},
   "outputs": [],
   "source": [
    "# dfの情報\n",
    "df.info()"
   ]
  },
  {
   "cell_type": "code",
   "execution_count": null,
   "id": "fd28550f",
   "metadata": {},
   "outputs": [],
   "source": [
    "# Sexと生存率の関係 \n",
    "sns.barplot(x='Sex', y='Survived', data=df, palette='Set3')\n",
    "plt.show()"
   ]
  },
  {
   "cell_type": "code",
   "execution_count": null,
   "id": "3579ec48",
   "metadata": {},
   "outputs": [],
   "source": [
    "# Ageについて\n",
    "\n",
    "from sklearn.ensemble import RandomForestRegressor\n",
    "\n",
    "age_df = df[['Age', 'Pclass','Sex','Parch','SibSp']]  ##欠損値がないデータから欠損値を補うためのランダムフォレストを作成\n",
    "age_df=pd.get_dummies(age_df)  ## ラベル特徴量をワンホットエンコーディング\n",
    "\n",
    "# 学習データとテストデータに分離し、numpyに変換\n",
    "known_age = age_df[age_df.Age.notnull()].values  \n",
    "unknown_age = age_df[age_df.Age.isnull()].values\n",
    "\n",
    "# 学習データをX, yに分離\n",
    "X = known_age[:, 1:]  \n",
    "y = known_age[:, 0]\n",
    "\n",
    "# ランダムフォレストで推定モデルを構築\n",
    "rfr = RandomForestRegressor(random_state=0, n_estimators=100, n_jobs=-1)\n",
    "rfr.fit(X, y)\n",
    "\n",
    "# 推定モデルを使って、テストデータのAgeを予測し、補完\n",
    "predictedAges = rfr.predict(unknown_age[:, 1::])\n",
    "df.loc[(df.Age.isnull()), 'Age'] = predictedAges \n",
    "\n",
    "# 年齢別生存曲線と死亡曲線(ここは確認用)\n",
    "facet = sns.FacetGrid(df[0:890], hue=\"Survived\",aspect=2)\n",
    "facet.map(sns.kdeplot,'Age',shade= True)\n",
    "facet.set(xlim=(0, df.loc[0:890,'Age'].max()))\n",
    "facet.add_legend()\n",
    "plt.show()\n"
   ]
  },
  {
   "cell_type": "code",
   "execution_count": null,
   "id": "cdf395b1",
   "metadata": {},
   "outputs": [],
   "source": [
    "# Name\n",
    "# Nameから敬称を取り出して特徴量にする\n",
    "df['Title'] = df['Name'].map(lambda x: x.split(', ')[1].split('. ')[0])\n",
    "df['Title'].replace(['Capt', 'Col', 'Major', 'Dr', 'Rev'], 'Officer', inplace=True)\n",
    "df['Title'].replace(['Don', 'Sir',  'the Countess', 'Lady', 'Dona'], 'Royalty', inplace=True)\n",
    "df['Title'].replace(['Mme', 'Ms'], 'Mrs', inplace=True)\n",
    "df['Title'].replace(['Mlle'], 'Miss', inplace=True)\n",
    "df['Title'].replace(['Jonkheer'], 'Master', inplace=True)\n",
    "sns.barplot(x='Title', y='Survived', data=df, palette='Set3')\n"
   ]
  },
  {
   "cell_type": "code",
   "execution_count": null,
   "id": "e4655563",
   "metadata": {},
   "outputs": [],
   "source": [
    "# Surname\n",
    "# NameからSurname(苗字)を抽出\n",
    "df['Surname'] = df['Name'].map(lambda name:name.split(',')[0].strip())\n",
    "\n",
    "# 同じSurname(苗字)の出現頻度をカウント(出現回数が2以上なら家族)\n",
    "df['FamilyGroup'] = df['Surname'].map(df['Surname'].value_counts()) \n",
    "\n",
    "# 家族で16才以下または女性の生存率\n",
    "Female_Child_Group=df.loc[(df['FamilyGroup']>=2) & ((df['Age']<=16) | (df['Sex']=='female'))]\n",
    "Female_Child_Group=Female_Child_Group.groupby('Surname')['Survived'].mean()\n",
    "print(Female_Child_Group.value_counts())\n",
    "\n",
    "# 家族で16才超えかつ男性の生存率\n",
    "Male_Adult_Group=df.loc[(df['FamilyGroup']>=2) & (df['Age']>16) & (df['Sex']=='male')]\n",
    "Male_Adult_List=Male_Adult_Group.groupby('Surname')['Survived'].mean()\n",
    "print(Male_Adult_List.value_counts())\n",
    "\n",
    "#上記のことからわかるのは全体の流れとは逆の運命を辿った少数派が居ること\n"
   ]
  },
  {
   "cell_type": "code",
   "execution_count": null,
   "id": "152418cb",
   "metadata": {},
   "outputs": [],
   "source": [
    "#少数派を加味する\n",
    "\n",
    "# デッドリストとサバイブリストの作成\n",
    "Dead_list=set(Female_Child_Group[Female_Child_Group.apply(lambda x:x==0)].index)\n",
    "Survived_list=set(Male_Adult_List[Male_Adult_List.apply(lambda x:x==1)].index)\n",
    "\n",
    "# デッドリストとサバイブリストの表示\n",
    "print('Dead_list = ', Dead_list)\n",
    "print('Survived_list = ', Survived_list)\n",
    "\n",
    "# デッドリストとサバイブリストをSex, Age, Title に反映させる\n",
    "df.loc[(df['Survived'].isnull()) & (df['Surname'].apply(lambda x:x in Dead_list)),['Sex','Age','Title']] = ['male',28.0,'Mr']\n",
    "df.loc[(df['Survived'].isnull()) & (df['Surname'].apply(lambda x:x in Survived_list)),['Sex','Age','Title']] = ['female',5.0,'Mrs']"
   ]
  },
  {
   "cell_type": "code",
   "execution_count": null,
   "id": "481276e8",
   "metadata": {},
   "outputs": [],
   "source": [
    "# Fare\n",
    "# 欠損値を Embarked='S', Pclass=3 の平均値で補完\n",
    "fare=df.loc[(df['Embarked'] == 'S') & (df['Pclass'] == 3), 'Fare'].median()\n",
    "df['Fare']=df['Fare'].fillna(fare)"
   ]
  },
  {
   "cell_type": "code",
   "execution_count": null,
   "id": "fc8cce21",
   "metadata": {},
   "outputs": [],
   "source": [
    "# Family\n",
    "# Family = SibSp(兄弟や配偶者) + Parch(親や子ども) + 1 を特徴量とし、グルーピング\n",
    "df['Family']=df['SibSp']+df['Parch']+1\n",
    "df.loc[(df['Family']>=2) & (df['Family']<=4), 'Family_label'] = 2\n",
    "df.loc[(df['Family']>=5) & (df['Family']<=7) | (df['Family']==1), 'Family_label'] = 1  \n",
    "df.loc[(df['Family']>=8), 'Family_label'] = 0"
   ]
  },
  {
   "cell_type": "code",
   "execution_count": null,
   "id": "7cae6c5a",
   "metadata": {},
   "outputs": [],
   "source": [
    "# Ticket\n",
    "# 同一Ticketナンバーの人が何人いるかを特徴量として抽出\n",
    "Ticket_Count = dict(df['Ticket'].value_counts())\n",
    "df['TicketGroup'] = df['Ticket'].map(Ticket_Count)\n",
    "sns.barplot(x='TicketGroup', y='Survived', data=df, palette='Set3')\n",
    "plt.show()\n",
    "\n",
    "# 生存率で3つにグルーピング\n",
    "df.loc[(df['TicketGroup']>=2) & (df['TicketGroup']<=4), 'Ticket_label'] = 2\n",
    "df.loc[(df['TicketGroup']>=5) & (df['TicketGroup']<=8) | (df['TicketGroup']==1), 'Ticket_label'] = 1  \n",
    "df.loc[(df['TicketGroup']>=11), 'Ticket_label'] = 0\n",
    "sns.barplot(x='Ticket_label', y='Survived', data=df, palette='Set3')\n",
    "plt.show()\n"
   ]
  },
  {
   "cell_type": "code",
   "execution_count": null,
   "id": "bc5e1be8",
   "metadata": {},
   "outputs": [],
   "source": [
    "# Cabin(あまり影響を及ぼさない)\n",
    "# Cabinの先頭文字を特徴量とする(欠損値は U )\n",
    "df['Cabin'] = df['Cabin'].fillna('Unknown')\n",
    "df['Cabin_label']=df['Cabin'].str.get(0)\n",
    "sns.barplot(x='Cabin_label', y='Survived', data=df, palette='Set3')\n",
    "plt.show()\n"
   ]
  },
  {
   "cell_type": "code",
   "execution_count": null,
   "id": "d6d48ee8",
   "metadata": {},
   "outputs": [],
   "source": [
    "# Embarked\n",
    "# 欠損値をSで補完\n",
    "df['Embarked'] = df['Embarked'].fillna('S') "
   ]
  },
  {
   "cell_type": "code",
   "execution_count": null,
   "id": "398d83bb",
   "metadata": {},
   "outputs": [],
   "source": [
    "# 前処理\n",
    "# 推定に使用する項目を指定\n",
    "df = df[['Survived','Pclass','Sex','Age','Fare','Embarked','Title','Family_label','Cabin_label','Ticket_label']]\n",
    "\n",
    "# ラベル特徴量をワンホットエンコーディング\n",
    "df = pd.get_dummies(df)\n",
    "\n",
    "# データセットを trainとtestに分割\n",
    "train = df[df['Survived'].notnull()]\n",
    "test = df[df['Survived'].isnull()].drop('Survived',axis=1)\n",
    "\n",
    "# データフレームをnumpyに変換\n",
    "X = train.values[:,1:]  \n",
    "y = train.values[:,0] \n",
    "test_x = test.values"
   ]
  },
  {
   "cell_type": "code",
   "execution_count": null,
   "id": "0cb1b08a",
   "metadata": {},
   "outputs": [],
   "source": [
    "# 推定モデル構築\n",
    "from sklearn.feature_selection import SelectKBest\n",
    "from sklearn.ensemble import RandomForestClassifier\n",
    "from sklearn.pipeline import make_pipeline\n",
    "from sklearn.model_selection import cross_validate\n",
    "\n",
    "# 採用する特徴量を25個から20個に絞り込む\n",
    "select = SelectKBest(k = 20)\n",
    "clf = RandomForestClassifier(random_state = 10, \n",
    "                             warm_start = True,  # 既にフィットしたモデルに学習を追加 \n",
    "                             n_estimators = 26,\n",
    "                             max_depth = 6, \n",
    "                             max_features = 'sqrt')\n",
    "pipeline = make_pipeline(select, clf)\n",
    "pipeline.fit(X, y)\n",
    "\n",
    "# フィット結果の表示\n",
    "cv_result = cross_validate(pipeline, X, y, cv= 10)\n",
    "print('mean_score = ', np.mean(cv_result['test_score']))\n",
    "print('mean_std = ', np.std(cv_result['test_score']))"
   ]
  },
  {
   "cell_type": "code",
   "execution_count": null,
   "id": "205ab32e",
   "metadata": {},
   "outputs": [],
   "source": [
    "# 採用した特徴量\n",
    "\n",
    "mask= select.get_support()\n",
    "# 項目のリスト\n",
    "list_col = list(df.columns[1:])\n",
    "# 項目別の採用可否の一覧表\n",
    "for i, j in enumerate(list_col):\n",
    "    print('No'+str(i+1), j,'=',  mask[i])\n",
    "\n",
    "# シェイプの確認\n",
    "X_selected = select.transform(X)\n",
    "print('X.shape={}, X_selected.shape={}'.format(X.shape, X_selected.shape))\n"
   ]
  },
  {
   "cell_type": "code",
   "execution_count": null,
   "id": "7cc579b3",
   "metadata": {},
   "outputs": [],
   "source": [
    "# Submit dataの作成\n",
    "PassengerId=test_data['PassengerId']\n",
    "predictions = pipeline.predict(test_x)\n",
    "submission = pd.DataFrame({\"PassengerId\": PassengerId, \"Survived\": predictions.astype(np.int32)})\n",
    "submission.to_csv(\"my_submission.csv\", index=False)"
   ]
  },
  {
   "cell_type": "code",
   "execution_count": null,
   "id": "f74ba8f8",
   "metadata": {},
   "outputs": [],
   "source": [
    "#1)欠損値補完には、欠損値がない完全なデータから推定モデルを作って補完する方法がある(Age)。\n",
    "#2)一見ランダムに見える特徴量も必ず合理的な理屈から新たな特徴量が見い出せるはずだ(Ticket)。\n",
    "#3)一度新たな特徴量を見つけ出しても、さらに特徴量が見い出せる場合がある(Name)。\n",
    "#4)新たな特徴量を探る視点として、頻度がある(Surname, Ticket)\n",
    "#5)ラベル特徴量は分解して取捨選択するのが効果的な過学習防止策になる(Embarked, Title, Cabin)。\n",
    "#6)SelectKBsetを使用すると効率的な特徴量の取捨選択が出来る。"
   ]
  }
 ],
 "metadata": {
  "kernelspec": {
   "display_name": "Python 3",
   "language": "python",
   "name": "python3"
  },
  "language_info": {
   "codemirror_mode": {
    "name": "ipython",
    "version": 3
   },
   "file_extension": ".py",
   "mimetype": "text/x-python",
   "name": "python",
   "nbconvert_exporter": "python",
   "pygments_lexer": "ipython3",
   "version": "3.9.5"
  }
 },
 "nbformat": 4,
 "nbformat_minor": 5
}
