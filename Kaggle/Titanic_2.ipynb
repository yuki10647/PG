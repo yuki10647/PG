{
 "cells": [
  {
   "cell_type": "code",
   "execution_count": null,
   "id": "ef2374cb",
   "metadata": {},
   "outputs": [],
   "source": [
    "import numpy as np\n",
    "import pandas as pd\n",
    "import matplotlib.pyplot as plt\n",
    "from sklearn.svm import SVC\n",
    "from sklearn.cross_validation import train_test_split\n",
    "from sklearn.metrics import accuracy_score"
   ]
  },
  {
   "cell_type": "code",
   "execution_count": null,
   "id": "b35b2a7c",
   "metadata": {},
   "outputs": [],
   "source": [
    "#CSVフィルの読み込み\n",
    "dfS = pd.read_csv(\"train.csv\")\n",
    "dfT = pd.read_csv(\"test.csv\")"
   ]
  },
  {
   "cell_type": "code",
   "execution_count": null,
   "id": "06446e8d",
   "metadata": {},
   "outputs": [],
   "source": [
    "#前処理\n",
    "\n",
    "#データ状態の確認\n",
    "dfS['Age'].isnull().values.sum() \n",
    "dfS['Age'].isnull().values.sum() / len(dfS['Age']) * 100\n",
    "plt.hist(dfS['Age'].dropna(),bins=20)"
   ]
  },
  {
   "cell_type": "code",
   "execution_count": null,
   "id": "cb6e489b",
   "metadata": {},
   "outputs": [],
   "source": [
    "#平均値で穴埋め\n",
    "mean = np.mean(dfS['Age'])\n",
    "dfS['Age'] = dfS['Age'].fillna(mean)\n",
    "\n",
    "# 性別\n",
    "dfS['Sex'] = dfS['Sex'].str.replace('female','2')\n",
    "dfS['Sex'] = dfS['Sex'].str.replace('male','1')"
   ]
  },
  {
   "cell_type": "code",
   "execution_count": null,
   "id": "9e35827e",
   "metadata": {},
   "outputs": [],
   "source": [
    "#トレーニングデータを説明変数(X)と目的変数(y)に分割\n",
    "X = pd.DataFrame({'Pclass':dfS['Pclass'],\n",
    "                　'Sex':dfS['Sex'],\n",
    "                　'Age':dfS['Age']})\n",
    "y = pd.DataFrame({'Survived':dfS['Survived']})\n"
   ]
  },
  {
   "cell_type": "code",
   "execution_count": null,
   "id": "44352427",
   "metadata": {},
   "outputs": [],
   "source": [
    "#学習用データと検証用データに分割\n",
    "X_train, X_test, y_train, y_test = train_test_split(X, y, test_size=0.3, random_state=None )\n"
   ]
  },
  {
   "cell_type": "code",
   "execution_count": null,
   "id": "edb7acef",
   "metadata": {},
   "outputs": [],
   "source": [
    "#学習と検証\n",
    "model = SVC(kernel='linear', random_state=None,C=0.1)\n",
    "model.fit(X_train, y_train)\n",
    "model.score(X_test,y_test)"
   ]
  },
  {
   "cell_type": "code",
   "execution_count": null,
   "id": "8f78cb36",
   "metadata": {},
   "outputs": [],
   "source": [
    "#testデータの前処理\n",
    "mean = np.mean(dfT['Age'])\n",
    "dfT['Age'] = dfT['Age'].fillna(mean)\n",
    "\n",
    "dfT['Sex'] = dfT['Sex'].str.replace('female','2')\n",
    "dfT['Sex'] = dfT['Sex'].str.replace('male','1')\n",
    "\n",
    "Xtest = pd.DataFrame({ 'Pclass':dfT['Pclass'],\n",
    "                       'Sex':dfT['Sex'],\n",
    "                       'Age':dfT['Age']})\n",
    "\n",
    "model.predict(Xtest)\n"
   ]
  },
  {
   "cell_type": "code",
   "execution_count": null,
   "id": "8fcd3fd6",
   "metadata": {},
   "outputs": [],
   "source": [
    "#整形\n",
    "submitPre = pd.DataFrame({\n",
    "                        'PassengerId':dfT['PassengerId'],\n",
    "                        'Survived':model.predict(Xtest)\n",
    "                        })\n",
    "#CSV出力\n",
    "submitPre.to_csv(\"gender_submission.csv\",index=False)"
   ]
  },
  {
   "cell_type": "code",
   "execution_count": null,
   "id": "81a468a7",
   "metadata": {},
   "outputs": [],
   "source": []
  }
 ],
 "metadata": {
  "kernelspec": {
   "display_name": "Python 3",
   "language": "python",
   "name": "python3"
  },
  "language_info": {
   "codemirror_mode": {
    "name": "ipython",
    "version": 3
   },
   "file_extension": ".py",
   "mimetype": "text/x-python",
   "name": "python",
   "nbconvert_exporter": "python",
   "pygments_lexer": "ipython3",
   "version": "3.9.5"
  }
 },
 "nbformat": 4,
 "nbformat_minor": 5
}
