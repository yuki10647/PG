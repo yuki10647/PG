{
 "cells": [
  {
   "cell_type": "code",
   "execution_count": 1,
   "id": "01cf4f2a",
   "metadata": {},
   "outputs": [
    {
     "name": "stdout",
     "output_type": "stream",
     "text": [
      "2022-02-06\n",
      "2022-02-06 16:11:11.536401\n",
      "1\n",
      "7572\n"
     ]
    }
   ],
   "source": [
    "# datetime\n",
    "import datetime\n",
    "\n",
    "today = datetime.date.today()\n",
    "print(today)\n",
    "\n",
    "print(datetime.datetime.now())\n",
    "\n",
    "birthday = datetime.date(2001, 5, 15)\n",
    "print(birthday.weekday())\n",
    "\n",
    "life = today - birthday\n",
    "print(life.days)"
   ]
  },
  {
   "cell_type": "code",
   "execution_count": null,
   "id": "36097a56",
   "metadata": {},
   "outputs": [],
   "source": [
    "# sys,  try,  except\n",
    "import sys\n",
    "\n",
    "try:\n",
    "    a = float(sys.argv[1])\n",
    "    b = float(sys.argv[2])\n",
    "    print(a+b)\n",
    "except:\n",
    "    print('Error!!')"
   ]
  },
  {
   "cell_type": "code",
   "execution_count": 7,
   "id": "df86bedf",
   "metadata": {},
   "outputs": [],
   "source": [
    "# turtle\n",
    "import turtle\n",
    "import random\n",
    "\n",
    "kame = turtle.Turtle()\n",
    "kame.shape('turtle')\n",
    "kame.shapesize(2, 2, 3)\n",
    "\n",
    "kame.home()\n",
    "kame.clear()\n",
    "kame.penup()\n",
    "kame.forward(200)\n",
    "kame.left(90)\n",
    "kame.pendown()\n",
    "kame.circle(200)\n",
    "kame.penup()\n",
    "kame.home()\n",
    "kame.pendown()\n",
    "\n",
    "while kame.distance(0, 0) < 200:\n",
    "    kame.left(random.randint(1, 360))\n",
    "    kame.forward(15)"
   ]
  },
  {
   "cell_type": "code",
   "execution_count": 2,
   "id": "3174a42b",
   "metadata": {},
   "outputs": [
    {
     "data": {
      "text/plain": [
       "[0, 2, 3, 4]"
      ]
     },
     "execution_count": 2,
     "metadata": {},
     "output_type": "execute_result"
    }
   ],
   "source": [
    "# list\n",
    "list0 = [0, 1, 2, 3]\n",
    "\n",
    "list0.append(4)    # 4 加える\n",
    "list0.insert(1, 5) # 5 入れる\n",
    "list0.pop(1)       # 5 除く\n",
    "list0.remove(1)    # 1 除く\n",
    "list0.reverse()    # 反転\n",
    "list0.sort()       # 並び替え\n",
    "list0"
   ]
  },
  {
   "cell_type": "code",
   "execution_count": null,
   "id": "fda658f3",
   "metadata": {},
   "outputs": [],
   "source": [
    "# usage of file\n",
    "test_file = open('test.txt', 'w')\n",
    "test_file.write('Hello!!')\n",
    "test_file.flush()\n",
    "test_file.close()\n",
    "\n",
    "test_file = open('test.txt', 'r')\n",
    "read_line = test_file.readline()\n",
    "test_file.close()\n",
    "print(read_line)"
   ]
  },
  {
   "cell_type": "code",
   "execution_count": null,
   "id": "d22bcd7c",
   "metadata": {},
   "outputs": [],
   "source": [
    "# usage of DataBase\n",
    "import sqlite3\n",
    "# make DB\n",
    "conn = sqlite3.connect('my_database.db')\n",
    "conn.execute('create table data_table(id integer, random_val real)')\n",
    "# write DB\n",
    "import itertools\n",
    "import random\n",
    "iter_cnt = itertools.count(1)\n",
    "for i in range(500):\n",
    "    num = random.random()\n",
    "    conn.execute('insert into data_table values({}, {})'.format(next(iter_cnt), num))\n",
    "# read DB\n",
    "cur = execute('select * from data_table')\n",
    "# select count(*) from data_table\n",
    "# select * from data_table where id=500\n",
    "# update data_table set id=-99 where id=501\n",
    "# delete from data_table where id=-99\n",
    "for row in cur:\n",
    "    print(row)\n",
    "conn.commit()\n",
    "conn.close()"
   ]
  },
  {
   "cell_type": "code",
   "execution_count": null,
   "id": "9ae32659",
   "metadata": {},
   "outputs": [],
   "source": [
    "# def, class\n",
    "\n",
    "# my_module\n",
    "def func(v):\n",
    "    i = v + 3\n",
    "    return i\n",
    "\n",
    "# mainfile\n",
    "import my_module\n",
    "my_module.func(5)\n",
    "\n",
    "# change my_module\n",
    "def func(v):\n",
    "    i = v * 3\n",
    "    return i\n",
    "\n",
    "# change mainfile\n",
    "import importlib\n",
    "importlib.reload(my_module)\n",
    "my_module(5)\n",
    "\n",
    "# change my_module\n",
    "class Dice:\n",
    "    def __init__(self, val):\n",
    "        self.face_num = val\n",
    "    def shoot(self):\n",
    "        return random.randint(1, self.face_num)\n",
    "\n",
    "# change mainfile\n",
    "importlib.reload(my_module)\n",
    "sai = my_module.Dice(4)\n",
    "print(sai.shoot())\n",
    "print(sai.face_num)"
   ]
  },
  {
   "cell_type": "code",
   "execution_count": null,
   "id": "7a2fb17e",
   "metadata": {},
   "outputs": [],
   "source": [
    "# 標準ライブラリ\n",
    "collections\n",
    "re\n",
    "statistic\n",
    "logging\n",
    "pip\n",
    "decimal\n",
    "itertools"
   ]
  },
  {
   "cell_type": "code",
   "execution_count": 1,
   "id": "05c6e296",
   "metadata": {},
   "outputs": [
    {
     "name": "stdout",
     "output_type": "stream",
     "text": [
      "税込み1100円\n"
     ]
    }
   ],
   "source": [
    "# 型アノテーション\n",
    "price: int = 1000  # price=1000\n",
    "tax: float = 1.1   # tax=1.1\n",
    "def calc(price:int, tax:float)->int:\n",
    "    return int(price*tax)\n",
    "\n",
    "if __name__==\"__main__\":\n",
    "    print(f'税込み{calc(price=price, tax=tax)}円')\n",
    "\"\"\"\n",
    "from typing import List, Dict\n",
    "sample_list: List[int] = [1, 2, 3, 4]\n",
    "sample_dict: Dict[str, str] = {'username', 'yuuki'}\n",
    "\"\"\""
   ]
  },
  {
   "cell_type": "code",
   "execution_count": 5,
   "id": "fea510ad",
   "metadata": {},
   "outputs": [
    {
     "name": "stdout",
     "output_type": "stream",
     "text": [
      "(1, 2)\n",
      "<class 'tuple'>\n"
     ]
    }
   ],
   "source": [
    "def sample1(*args):\n",
    "    print(args)\n",
    "    print(type(args))\n",
    "if __name__ == '__main__':\n",
    "    sample1(1, 2)"
   ]
  },
  {
   "cell_type": "code",
   "execution_count": 6,
   "id": "27f0585f",
   "metadata": {},
   "outputs": [
    {
     "name": "stdout",
     "output_type": "stream",
     "text": [
      "{'x': 1, 'y': 2}\n"
     ]
    }
   ],
   "source": [
    "def sample2(**kwargs):\n",
    "    print(kwargs)\n",
    "if __name__ == '__main__':\n",
    "    sample2(x=1, y=2)"
   ]
  },
  {
   "cell_type": "code",
   "execution_count": 6,
   "id": "928d99de",
   "metadata": {},
   "outputs": [
    {
     "name": "stdout",
     "output_type": "stream",
     "text": [
      "開始\n",
      "Called Func2\n",
      "終了\n"
     ]
    }
   ],
   "source": [
    "# デコレータ1\n",
    "def func1(f):\n",
    "    def wrapper():\n",
    "        print('開始')\n",
    "        f()\n",
    "        print('終了')\n",
    "    return wrapper\n",
    "def func2():\n",
    "    print('Called Func2')\n",
    "func = func1(func2)\n",
    "func()\n",
    "# func1(func2)()"
   ]
  },
  {
   "cell_type": "code",
   "execution_count": 7,
   "id": "8754a2f9",
   "metadata": {},
   "outputs": [
    {
     "name": "stdout",
     "output_type": "stream",
     "text": [
      "開始\n",
      "Called Func2\n",
      "終了\n"
     ]
    }
   ],
   "source": [
    "# 上の比較用\n",
    "def func1(f):\n",
    "    print('開始')\n",
    "    f()\n",
    "    print('終了')\n",
    "def func2():\n",
    "    print('Called Func2')\n",
    "func = func1(func2)\n",
    "func"
   ]
  },
  {
   "cell_type": "code",
   "execution_count": 8,
   "id": "33efb84a",
   "metadata": {},
   "outputs": [
    {
     "name": "stdout",
     "output_type": "stream",
     "text": [
      "開始\n",
      "243\n",
      "終了\n"
     ]
    }
   ],
   "source": [
    "# デコレータ2\n",
    "def log(f):\n",
    "    def wrapper():\n",
    "        print('開始')\n",
    "        f()\n",
    "        print('終了')\n",
    "    return wrapper\n",
    "\n",
    "@log\n",
    "def calc():\n",
    "    print(3**5)\n",
    "\n",
    "calc()"
   ]
  },
  {
   "cell_type": "code",
   "execution_count": 9,
   "id": "01251477",
   "metadata": {},
   "outputs": [
    {
     "name": "stdout",
     "output_type": "stream",
     "text": [
      "開始\n",
      "15.0\n",
      "終了\n"
     ]
    }
   ],
   "source": [
    "# デコレータ3\n",
    "def log(f):\n",
    "    def wrapper(base, height):\n",
    "        print('開始')\n",
    "        f(base, height)\n",
    "        print('終了')\n",
    "    return wrapper\n",
    "\n",
    "@log\n",
    "def calc(base, height):\n",
    "    print(base*height/2)\n",
    "\n",
    "calc(3, 10)"
   ]
  },
  {
   "cell_type": "code",
   "execution_count": 17,
   "id": "d2de3830",
   "metadata": {},
   "outputs": [
    {
     "name": "stdout",
     "output_type": "stream",
     "text": [
      "開始\n",
      "60\n",
      "終了\n",
      "\n",
      "開始\n",
      "120\n",
      "終了\n"
     ]
    }
   ],
   "source": [
    "# デコレータ4\n",
    "def log(f):\n",
    "    def wrapper(*args, **kwargs):\n",
    "        print('開始')\n",
    "        f(*args, **kwargs)\n",
    "        print('終了')\n",
    "    return wrapper\n",
    "\n",
    "@log\n",
    "def calc1(a, b, c):\n",
    "    print(a*b*c)\n",
    "    \n",
    "@log\n",
    "def calc2(a, b, c, d):\n",
    "    print(a*b*c*d)\n",
    "    \n",
    "calc1(3, 10, 2)\n",
    "print()\n",
    "calc2(3, 10, 2, 2)"
   ]
  },
  {
   "cell_type": "code",
   "execution_count": 18,
   "id": "a53e0e2e",
   "metadata": {},
   "outputs": [
    {
     "data": {
      "text/plain": [
       "25.0"
      ]
     },
     "execution_count": 18,
     "metadata": {},
     "output_type": "execute_result"
    }
   ],
   "source": [
    "# lambda \n",
    "func = lambda base, height: base*height/2\n",
    "func(5, 10)"
   ]
  },
  {
   "cell_type": "code",
   "execution_count": null,
   "id": "31452cbd",
   "metadata": {},
   "outputs": [],
   "source": []
  }
 ],
 "metadata": {
  "kernelspec": {
   "display_name": "Python 3 (ipykernel)",
   "language": "python",
   "name": "python3"
  },
  "language_info": {
   "codemirror_mode": {
    "name": "ipython",
    "version": 3
   },
   "file_extension": ".py",
   "mimetype": "text/x-python",
   "name": "python",
   "nbconvert_exporter": "python",
   "pygments_lexer": "ipython3",
   "version": "3.9.5"
  }
 },
 "nbformat": 4,
 "nbformat_minor": 5
}
