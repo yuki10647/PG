{
 "cells": [
  {
   "cell_type": "code",
   "execution_count": 1,
   "id": "ab75ad29",
   "metadata": {},
   "outputs": [],
   "source": [
    "from math import sqrt\n",
    "import numpy as np\n",
    "import pandas as pd\n",
    "import matplotlib\n",
    "import matplotlib.pyplot as plt\n",
    "import seaborn as sns\n",
    "from sklearn.linear_model import LinearRegression\n",
    "from sklearn.linear_model import Ridge,RidgeCV,Lasso,LassoCV,ElasticNet,ElasticNetCV\n",
    "from sklearn import metrics\n",
    "from sklearn.metrics import mean_squared_log_error,mean_squared_error\n",
    "from sklearn.model_selection import KFold\n",
    "\n",
    "import warnings\n",
    "pd.options.mode.chained_assignment = None\n",
    "warnings.filterwarnings(\"ignore\", category=DeprecationWarning)\n",
    "\n",
    "%matplotlib  inline"
   ]
  },
  {
   "cell_type": "code",
   "execution_count": 2,
   "id": "71eff6c8",
   "metadata": {},
   "outputs": [],
   "source": [
    "train =  pd.read_csv('trainofbike.csv',  parse_dates = ['datetime'])\n",
    "test = pd.read_csv('testofbike.csv', parse_dates = ['datetime'])"
   ]
  },
  {
   "cell_type": "code",
   "execution_count": 3,
   "id": "fcfd6697",
   "metadata": {},
   "outputs": [],
   "source": [
    "#datetimeの変換\n",
    "import datetime as dt\n",
    "train['day'] = train.datetime.dt.day\n",
    "train['hour'] = train.datetime.dt.hour\n",
    "train['weekday'] = train.datetime.dt.weekday\n",
    "train['year'] = train.datetime.dt.year\n",
    "train['month'] = train.datetime.dt.month\n",
    "test['day'] = test.datetime.dt.day\n",
    "test['hour'] = test.datetime.dt.hour\n",
    "test['weekday'] = test.datetime.dt.weekday\n",
    "test['year'] = test.datetime.dt.year\n",
    "test['month'] = test.datetime.dt.month"
   ]
  },
  {
   "cell_type": "code",
   "execution_count": 4,
   "id": "2ba63a49",
   "metadata": {},
   "outputs": [],
   "source": [
    "# 2.ベース(datetime分解あり)\n",
    "train_0 = train.drop(columns = ['datetime', 'casual', 'registered', 'count'])\n",
    "train_y = train['count']\n",
    "test_0 = test.drop(columns = ['datetime'])\n",
    "test_datetime = test['datetime']"
   ]
  },
  {
   "cell_type": "code",
   "execution_count": null,
   "id": "d52e53af",
   "metadata": {},
   "outputs": [],
   "source": []
  },
  {
   "cell_type": "code",
   "execution_count": 5,
   "id": "1014eb5d",
   "metadata": {},
   "outputs": [
    {
     "name": "stdout",
     "output_type": "stream",
     "text": [
      "1.122277356208507\n",
      "0.38886268716041006\n",
      "[-27.40177543 -23.3264008  -15.60507749 ... 288.04393302 306.50281408\n",
      " 295.33217926]\n"
     ]
    }
   ],
   "source": [
    "# Lasso回帰 分析\n",
    "from sklearn.linear_model import Lasso,LassoCV\n",
    "\n",
    "alphas = 10**np.linspace(-5, 10, 500)\n",
    "\n",
    "Lasso_cv = LassoCV(alphas=alphas, cv=10)\n",
    "Lasso_cv.fit(train_0, train_y)\n",
    "print(Lasso_cv.alpha_)\n",
    "\n",
    "Lasso = Lasso(alpha=Lasso_cv.alpha_)\n",
    "Lasso.fit(train_0, train_y)\n",
    "print(Lasso.score(train_0, train_y))\n",
    "Lasso_train_y_pred = Lasso.predict(test_0)\n",
    "print(Lasso_train_y_pred)\n",
    "\n",
    "\n",
    "\n",
    "#調整\n",
    "sub0 = pd.concat([test_datetime, pd.Series(Lasso_train_y_pred)], axis=1)\n",
    "sub0.columns = ['datetime','count']\n",
    "sub0['count'][sub0['count'] < 0] = 0\n",
    "#提出\n",
    "sub0.to_csv('bikelasso.csv', index = False)"
   ]
  },
  {
   "cell_type": "code",
   "execution_count": null,
   "id": "a205eb06",
   "metadata": {},
   "outputs": [],
   "source": []
  },
  {
   "cell_type": "code",
   "execution_count": 6,
   "id": "c0f3dadc",
   "metadata": {},
   "outputs": [
    {
     "name": "stdout",
     "output_type": "stream",
     "text": [
      "265.98043955937584\n",
      "0.38891947791192416\n",
      "[-25.18745994 -22.05239614 -14.2979977  ... 303.97544815 322.33278845\n",
      " 311.55807284]\n"
     ]
    }
   ],
   "source": [
    "# Ridge回帰 分析\n",
    "from sklearn.linear_model import Ridge,RidgeCV\n",
    "\n",
    "alphas = 10**np.linspace(-5, 10, 500)\n",
    "\n",
    "Ridge_cv = RidgeCV(alphas=alphas, cv=10, scoring='r2')\n",
    "Ridge_cv.fit(train_0, train_y)\n",
    "print(Ridge_cv.alpha_)\n",
    "\n",
    "Ridge = Ridge(alpha=Ridge_cv.alpha_)\n",
    "Ridge.fit(train_0, train_y)\n",
    "print(Ridge.score(train_0, train_y))\n",
    "Ridge_train_y_pred = Ridge.predict(test_0)\n",
    "print(Ridge_train_y_pred)\n",
    "\n",
    "#調整\n",
    "sub0 = pd.concat([test_datetime, pd.Series(Ridge_train_y_pred)], axis=1)\n",
    "sub0.columns = ['datetime','count']\n",
    "sub0['count'][sub0['count'] < 0] = 0\n",
    "#提出\n",
    "sub0.to_csv('bikeridge.csv', index = False)"
   ]
  },
  {
   "cell_type": "code",
   "execution_count": null,
   "id": "46cf130c",
   "metadata": {},
   "outputs": [],
   "source": []
  },
  {
   "cell_type": "code",
   "execution_count": 7,
   "id": "3400c9d1",
   "metadata": {},
   "outputs": [
    {
     "name": "stdout",
     "output_type": "stream",
     "text": [
      "0.028636097185081158\n",
      "0.38918798408172584\n",
      "[-26.65876207 -23.73012422 -15.96629524 ... 307.82617463 326.14420308\n",
      " 315.46336333]\n"
     ]
    }
   ],
   "source": [
    "# ENet 分析\n",
    "from sklearn.linear_model import ElasticNet,ElasticNetCV\n",
    "\n",
    "alphas = 10**np.linspace(-5, 10, 500)\n",
    "\n",
    "Elastic_cv = ElasticNetCV(alphas=alphas, cv=10)\n",
    "Elastic_cv.fit(train_0, train_y)\n",
    "print(Elastic_cv.alpha_)\n",
    "\n",
    "Elastic = ElasticNet(alpha=Elastic_cv.alpha_)\n",
    "Elastic.fit(train_0, train_y)\n",
    "print(Elastic.score(train_0, train_y))\n",
    "Elastic_train_y_pred = Elastic.predict(test_0)\n",
    "print(Elastic_train_y_pred)\n",
    "\n",
    "#y_pred[y_pred < 0] = 0\n",
    "\n",
    "#調整\n",
    "sub0 = pd.concat([test_datetime, pd.Series(Elastic_train_y_pred)], axis=1)\n",
    "sub0.columns = ['datetime','count']\n",
    "sub0['count'][sub0['count'] < 0] = 0\n",
    "#提出\n",
    "sub0.to_csv('bikeelastic.csv', index = False)"
   ]
  },
  {
   "cell_type": "code",
   "execution_count": null,
   "id": "eec302b6",
   "metadata": {},
   "outputs": [],
   "source": []
  },
  {
   "cell_type": "code",
   "execution_count": null,
   "id": "f09226fa",
   "metadata": {},
   "outputs": [],
   "source": [
    "\"\"\"\n",
    "seasonなし\n",
    "L1.32, R1.32, E1.32\n",
    "\n",
    "monthなし\n",
    "L1.30, R1.30, E1.30\n",
    "\n",
    "tempなし\n",
    "L1.32, R1.33, E1.33\n",
    "\n",
    "atempなし\n",
    "L1.32, R1.33, E1.33\n",
    "\n",
    "workingdayなし\n",
    "L1.32, R1.33, E1.33\n",
    "\n",
    "weekdayなし\n",
    "L1.32, R1.33, E1.33\n",
    "\n",
    "all\n",
    "L1.32, R1.33, E1.33\n",
    "\n",
    "\n",
    "\n",
    "\n",
    "\"\"\"\n"
   ]
  },
  {
   "cell_type": "code",
   "execution_count": null,
   "id": "263674ce",
   "metadata": {},
   "outputs": [],
   "source": []
  },
  {
   "cell_type": "code",
   "execution_count": null,
   "id": "9f56fed4",
   "metadata": {},
   "outputs": [],
   "source": []
  },
  {
   "cell_type": "code",
   "execution_count": null,
   "id": "61608229",
   "metadata": {},
   "outputs": [],
   "source": []
  },
  {
   "cell_type": "code",
   "execution_count": null,
   "id": "39bc6d10",
   "metadata": {},
   "outputs": [],
   "source": []
  },
  {
   "cell_type": "code",
   "execution_count": null,
   "id": "37a95d31",
   "metadata": {},
   "outputs": [],
   "source": []
  }
 ],
 "metadata": {
  "kernelspec": {
   "display_name": "Python 3",
   "language": "python",
   "name": "python3"
  },
  "language_info": {
   "codemirror_mode": {
    "name": "ipython",
    "version": 3
   },
   "file_extension": ".py",
   "mimetype": "text/x-python",
   "name": "python",
   "nbconvert_exporter": "python",
   "pygments_lexer": "ipython3",
   "version": "3.9.5"
  }
 },
 "nbformat": 4,
 "nbformat_minor": 5
}
