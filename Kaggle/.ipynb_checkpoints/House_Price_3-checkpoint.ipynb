{
 "cells": [
  {
   "cell_type": "code",
   "execution_count": 1,
   "id": "36bf8f7a",
   "metadata": {},
   "outputs": [],
   "source": [
    "import numpy as np\n",
    "import pandas as pd\n",
    "import matplotlib.pyplot as plt\n",
    "import seaborn as sns\n",
    "from sklearn.metrics import mean_squared_error\n",
    "from sklearn.preprocessing import StandardScaler\n",
    "from sklearn.model_selection import train_test_split\n",
    "from sklearn.pipeline import make_pipeline\n",
    "from sklearn.linear_model import LinearRegression, Ridge, Lasso\n",
    "%matplotlib inline"
   ]
  },
  {
   "cell_type": "code",
   "execution_count": 2,
   "id": "250d1eb1",
   "metadata": {},
   "outputs": [],
   "source": [
    "train = pd.read_csv('TrainOfHouse.csv')\n",
    "test = pd.read_csv('TestOfHouse.csv')"
   ]
  },
  {
   "cell_type": "code",
   "execution_count": 3,
   "id": "0392d050",
   "metadata": {},
   "outputs": [
    {
     "name": "stdout",
     "output_type": "stream",
     "text": [
      "train size : (1460, 82)\n",
      "test size : (1459, 82)\n"
     ]
    }
   ],
   "source": [
    "#結合\n",
    "train['WhatIsData'] = 'Train'\n",
    "test['WhatIsData'] = 'Test'\n",
    "test['SalePrice'] = 99999999999\n",
    "alldata = pd.concat([train, test], axis=0).reset_index(drop=True)\n",
    "print('train size : ' + str(train.shape))\n",
    "print('test size : ' + str(test.shape))"
   ]
  },
  {
   "cell_type": "code",
   "execution_count": 4,
   "id": "2aac8a11",
   "metadata": {},
   "outputs": [
    {
     "data": {
      "text/plain": [
       "PoolQC          1453\n",
       "MiscFeature     1406\n",
       "Alley           1369\n",
       "Fence           1179\n",
       "FireplaceQu      690\n",
       "LotFrontage      259\n",
       "GarageType        81\n",
       "GarageYrBlt       81\n",
       "GarageFinish      81\n",
       "GarageQual        81\n",
       "GarageCond        81\n",
       "BsmtExposure      38\n",
       "BsmtFinType2      38\n",
       "BsmtFinType1      37\n",
       "BsmtCond          37\n",
       "BsmtQual          37\n",
       "MasVnrArea         8\n",
       "MasVnrType         8\n",
       "Electrical         1\n",
       "dtype: int64"
      ]
     },
     "execution_count": 4,
     "metadata": {},
     "output_type": "execute_result"
    }
   ],
   "source": [
    "#欠損状況\n",
    "train.isnull().sum()[train.isnull().sum()>0].sort_values(ascending = False)"
   ]
  },
  {
   "cell_type": "code",
   "execution_count": 5,
   "id": "a01622d9",
   "metadata": {},
   "outputs": [
    {
     "data": {
      "text/plain": [
       "PoolQC          1456\n",
       "MiscFeature     1408\n",
       "Alley           1352\n",
       "Fence           1169\n",
       "FireplaceQu      730\n",
       "LotFrontage      227\n",
       "GarageCond        78\n",
       "GarageYrBlt       78\n",
       "GarageQual        78\n",
       "GarageFinish      78\n",
       "GarageType        76\n",
       "BsmtCond          45\n",
       "BsmtExposure      44\n",
       "BsmtQual          44\n",
       "BsmtFinType1      42\n",
       "BsmtFinType2      42\n",
       "MasVnrType        16\n",
       "MasVnrArea        15\n",
       "MSZoning           4\n",
       "BsmtFullBath       2\n",
       "BsmtHalfBath       2\n",
       "Functional         2\n",
       "Utilities          2\n",
       "GarageCars         1\n",
       "GarageArea         1\n",
       "TotalBsmtSF        1\n",
       "KitchenQual        1\n",
       "BsmtUnfSF          1\n",
       "BsmtFinSF2         1\n",
       "BsmtFinSF1         1\n",
       "Exterior2nd        1\n",
       "Exterior1st        1\n",
       "SaleType           1\n",
       "dtype: int64"
      ]
     },
     "execution_count": 5,
     "metadata": {},
     "output_type": "execute_result"
    }
   ],
   "source": [
    "test.isnull().sum()[test.isnull().sum()>0].sort_values(ascending = False)"
   ]
  },
  {
   "cell_type": "code",
   "execution_count": 6,
   "id": "f668987e",
   "metadata": {},
   "outputs": [
    {
     "data": {
      "text/plain": [
       "TotalBsmtSF     float64\n",
       "BsmtUnfSF       float64\n",
       "BsmtFinSF2      float64\n",
       "BsmtFinSF1      float64\n",
       "GarageYrBlt     float64\n",
       "BsmtFullBath    float64\n",
       "GarageCars      float64\n",
       "BsmtHalfBath    float64\n",
       "GarageArea      float64\n",
       "LotFrontage     float64\n",
       "MasVnrArea      float64\n",
       "GarageQual       object\n",
       "GarageCond       object\n",
       "GarageType       object\n",
       "PoolQC           object\n",
       "FireplaceQu      object\n",
       "Fence            object\n",
       "Functional       object\n",
       "KitchenQual      object\n",
       "GarageFinish     object\n",
       "MSZoning         object\n",
       "MiscFeature      object\n",
       "BsmtFinType2     object\n",
       "BsmtFinType1     object\n",
       "BsmtExposure     object\n",
       "BsmtCond         object\n",
       "BsmtQual         object\n",
       "MasVnrType       object\n",
       "Exterior2nd      object\n",
       "Exterior1st      object\n",
       "Utilities        object\n",
       "Alley            object\n",
       "Electrical       object\n",
       "SaleType         object\n",
       "dtype: object"
      ]
     },
     "execution_count": 6,
     "metadata": {},
     "output_type": "execute_result"
    }
   ],
   "source": [
    "#欠損値があるコラムのデータ型\n",
    "na_col_list = alldata.isnull().sum()[alldata.isnull().sum()>0].index.tolist()\n",
    "alldata[na_col_list].dtypes.sort_values()"
   ]
  },
  {
   "cell_type": "code",
   "execution_count": 7,
   "id": "331fbe8e",
   "metadata": {},
   "outputs": [],
   "source": [
    "#補完\n",
    "na_float_cols = alldata[na_col_list].dtypes[alldata[na_col_list].dtypes == 'float64'].index.tolist()\n",
    "na_obj_cols = alldata[na_col_list].dtypes[alldata[na_col_list].dtypes == 'object'].index.tolist()\n",
    "\n",
    "for na_float_col in na_float_cols:\n",
    "    alldata.loc[alldata[na_float_col].isnull(), na_float_col] = 0.0\n",
    "for na_obj_col in na_obj_cols:\n",
    "    alldata.loc[alldata[na_obj_col].isnull(), na_obj_col] = 'NA'"
   ]
  },
  {
   "cell_type": "code",
   "execution_count": 8,
   "id": "73657b52",
   "metadata": {},
   "outputs": [
    {
     "data": {
      "text/plain": [
       "Series([], dtype: int64)"
      ]
     },
     "execution_count": 8,
     "metadata": {},
     "output_type": "execute_result"
    }
   ],
   "source": [
    "#欠損値がないことを確認\n",
    "alldata.isnull().sum()[alldata.isnull().sum()>0].sort_values(ascending= False)"
   ]
  },
  {
   "cell_type": "code",
   "execution_count": 12,
   "id": "1402d338",
   "metadata": {},
   "outputs": [],
   "source": [
    "#カテゴリ変数のダミー化\n",
    "#本来はEDAでカテゴリ変数とSalePriceの関係も調べる必要あり\n",
    "\n",
    "#カテゴリ変数の特徴量\n",
    "cat_cols = alldata.dtypes[alldata.dtypes=='object'].index.tolist()\n",
    "#数値変数の特徴量\n",
    "num_cols = alldata.dtypes[alldata.dtypes!='object'].index.tolist()\n",
    "#分割と提出に必要なコラムのリスト化\n",
    "other_cols = ['Id', 'WhatIsData']\n",
    "#余計な要素を削除\n",
    "cat_cols.remove('WhatIsData')\n",
    "num_cols.remove('Id')\n",
    "#ダミー化\n",
    "alldata_cat = pd.get_dummies(alldata[cat_cols])\n",
    "#統合\n",
    "all_data = pd.concat([alldata[other_cols], alldata[num_cols], alldata_cat], axis=1)"
   ]
  },
  {
   "cell_type": "code",
   "execution_count": 15,
   "id": "25ec9379",
   "metadata": {},
   "outputs": [
    {
     "data": {
      "text/plain": [
       "<AxesSubplot:xlabel='SalePrice', ylabel='Count'>"
      ]
     },
     "execution_count": 15,
     "metadata": {},
     "output_type": "execute_result"
    },
    {
     "data": {
      "image/png": "[encoded data removed]",
      "text/plain": [
       "<Figure size 432x288 with 1 Axes>"
      ]
     },
     "metadata": {
      "needs_background": "light"
     },
     "output_type": "display_data"
    }
   ],
   "source": [
    "#正規化\n",
    "sns.histplot(train['SalePrice'])\n",
    "sns.histplot(np.log(train['SalePrice']))   #参考記事ではdistplot"
   ]
  },
  {
   "cell_type": "code",
   "execution_count": 16,
   "id": "d4ae3d8e",
   "metadata": {},
   "outputs": [],
   "source": [
    "#モデル構築\n",
    "#変数がかなり多いため、係数に強力なペナルティをかけるLasso回帰\n",
    "\n",
    "#学習データとテストデータに分割\n",
    "train_ = all_data[all_data['WhatIsData']=='Train'].drop(['WhatIsData', 'Id'], axis=1).reset_index(drop=True)\n",
    "test_ = all_data[all_data['WhatIsData']=='Test'].drop(['WhatIsData', 'SalePrice'], axis=1).reset_index(drop=True)\n",
    "\n",
    "#学習データ内の分割\n",
    "train_x = train_.drop('SalePrice', axis=1)\n",
    "train_y = np.log(train_['SalePrice'])\n",
    "\n",
    "#テストデータ内の分割\n",
    "test_id = test_['Id']\n",
    "test_data = test_.drop('Id', axis=1)"
   ]
  },
  {
   "cell_type": "code",
   "execution_count": 17,
   "id": "61d8f505",
   "metadata": {},
   "outputs": [
    {
     "name": "stdout",
     "output_type": "stream",
     "text": [
      "alpha : 0.01\n",
      "test score is : 0.18072873354655122\n"
     ]
    }
   ],
   "source": [
    "#スケーリング\n",
    "scaler = StandardScaler()\n",
    "param_grid = [0.001, 0.01, 0.1, 1.0, 10.0, 100.0, 1000.0]\n",
    "cnt = 0\n",
    "#Lasso回帰モデル\n",
    "for alpha in param_grid:\n",
    "    ls = Lasso(alpha=alpha) \n",
    "    pipeline = make_pipeline(scaler, ls) \n",
    "    X_train, X_test, y_train, y_test = train_test_split(train_x, train_y, test_size=0.3, random_state=0)\n",
    "    pipeline.fit(X_train,y_train)\n",
    "    train_rmse = np.sqrt(mean_squared_error(y_train, pipeline.predict(X_train)))\n",
    "    test_rmse = np.sqrt(mean_squared_error(y_test, pipeline.predict(X_test)))\n",
    "    if cnt == 0:\n",
    "        best_score = test_rmse\n",
    "        best_estimator = pipeline\n",
    "        best_param = alpha\n",
    "    elif best_score > test_rmse:\n",
    "        best_score = test_rmse\n",
    "        best_estimator = pipeline\n",
    "        best_param = alpha\n",
    "    else:\n",
    "        pass\n",
    "    cnt = cnt + 1\n",
    "\n",
    "print('alpha : ' + str(best_param))\n",
    "print('test score is : ' +str(best_score))"
   ]
  },
  {
   "cell_type": "code",
   "execution_count": 18,
   "id": "1c35abe2",
   "metadata": {},
   "outputs": [
    {
     "data": {
      "text/plain": [
       "<matplotlib.collections.PathCollection at 0x1de77b72d90>"
      ]
     },
     "execution_count": 18,
     "metadata": {},
     "output_type": "execute_result"
    },
    {
     "data": {
      "image/png": "[encoded data removed]",
      "text/plain": [
       "<Figure size 432x288 with 2 Axes>"
      ]
     },
     "metadata": {
      "needs_background": "light"
     },
     "output_type": "display_data"
    }
   ],
   "source": [
    "#モデルの検証\n",
    "plt.subplots_adjust(wspace=0.4)\n",
    "plt.subplot(121)\n",
    "plt.scatter(np.exp(y_train),np.exp(best_estimator.predict(X_train)))\n",
    "plt.subplot(122)\n",
    "plt.scatter(np.exp(y_test),np.exp(best_estimator.predict(X_test)))"
   ]
  },
  {
   "cell_type": "code",
   "execution_count": null,
   "id": "b06c1e49",
   "metadata": {},
   "outputs": [],
   "source": [
    "# 提出用データ生成\n",
    "ls = Lasso(alpha = 0.01)\n",
    "pipeline = make_pipeline(scaler, ls)\n",
    "pipeline.fit(train_x,train_y)\n",
    "test_SalePrice = pd.DataFrame(np.exp(pipeline.predict(test_data)),columns=['SalePrice'])\n",
    "test_Id = pd.DataFrame(test_id,columns=['Id'])\n",
    "pd.concat([test_Id, test_SalePrice],axis=1).to_csv('output.csv',index=False)"
   ]
  },
  {
   "cell_type": "code",
   "execution_count": null,
   "id": "5cce8e19",
   "metadata": {},
   "outputs": [],
   "source": []
  }
 ],
 "metadata": {
  "kernelspec": {
   "display_name": "Python 3",
   "language": "python",
   "name": "python3"
  },
  "language_info": {
   "codemirror_mode": {
    "name": "ipython",
    "version": 3
   },
   "file_extension": ".py",
   "mimetype": "text/x-python",
   "name": "python",
   "nbconvert_exporter": "python",
   "pygments_lexer": "ipython3",
   "version": "3.9.5"
  }
 },
 "nbformat": 4,
 "nbformat_minor": 5
}
