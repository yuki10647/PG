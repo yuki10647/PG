{
 "cells": [
  {
   "cell_type": "code",
   "execution_count": 1,
   "id": "0e5e71e8",
   "metadata": {},
   "outputs": [],
   "source": [
    "from math import sqrt\n",
    "import numpy as np\n",
    "import pandas as pd\n",
    "import matplotlib\n",
    "import matplotlib.pyplot as plt\n",
    "import seaborn as sns\n",
    "from sklearn.linear_model import LinearRegression\n",
    "from sklearn.linear_model import Ridge,RidgeCV,Lasso,LassoCV,ElasticNet,ElasticNetCV\n",
    "from sklearn import metrics\n",
    "from sklearn.metrics import mean_squared_log_error,mean_squared_error\n",
    "from sklearn.model_selection import KFold\n",
    "\n",
    "import warnings\n",
    "pd.options.mode.chained_assignment = None\n",
    "warnings.filterwarnings(\"ignore\", category=DeprecationWarning)\n",
    "\n",
    "%matplotlib  inline"
   ]
  },
  {
   "cell_type": "code",
   "execution_count": 10,
   "id": "74f3d34d",
   "metadata": {},
   "outputs": [],
   "source": [
    "train =  pd.read_csv('trainofbike.csv',  parse_dates = ['datetime'])\n",
    "test = pd.read_csv('testofbike.csv', parse_dates = ['datetime'])"
   ]
  },
  {
   "cell_type": "code",
   "execution_count": 3,
   "id": "e4d295e6",
   "metadata": {},
   "outputs": [],
   "source": [
    "#datetimeの変換\n",
    "import datetime as dt\n",
    "train['day'] = train.datetime.dt.day\n",
    "train['hour'] = train.datetime.dt.hour\n",
    "train['weekday'] = train.datetime.dt.weekday\n",
    "train['year'] = train.datetime.dt.year\n",
    "train['month'] = train.datetime.dt.month\n",
    "test['day'] = test.datetime.dt.day\n",
    "test['hour'] = test.datetime.dt.hour\n",
    "test['weekday'] = test.datetime.dt.weekday\n",
    "test['year'] = test.datetime.dt.year\n",
    "test['month'] = test.datetime.dt.month"
   ]
  },
  {
   "cell_type": "code",
   "execution_count": 4,
   "id": "33e55c40",
   "metadata": {},
   "outputs": [],
   "source": [
    "train_working_0 = train[train['workingday'] == 0]\n",
    "train_working_1 = train[train['workingday'] == 1]\n",
    "train_0 = train_working_0.drop(columns = ['datetime', 'casual', 'registered', 'count'])\n",
    "train_1 = train_working_1.drop(columns = ['datetime', 'casual', 'registered', 'count'])\n",
    "train_y = train['count']\n",
    "train_y_0 = train_working_0['count']\n",
    "train_y_1 = train_working_1['count']\n",
    "train_y_log = np.log1p(train_y)\n",
    "train_y_0_log = np.log1p(train_y_0)\n",
    "train_y_1_log = np.log1p(train_y_1)"
   ]
  },
  {
   "cell_type": "code",
   "execution_count": 4,
   "id": "74342aec",
   "metadata": {},
   "outputs": [],
   "source": [
    "train_0 = train.drop(columns = ['datetime', 'casual', 'registered', 'count'])\n",
    "train_y = train['count']\n",
    "train_y_log = np.log1p(train_y)\n",
    "\n",
    "t_w_0 = train[train['workingday'] == 0]\n",
    "t_w_0_0 = t_w_0.drop(columns = ['datetime', 'casual', 'registered', 'count'])\n",
    "t_w_0_y = t_w_0['count']\n",
    "t_w_0_y_log = np.log1p(t_w_0_y)\n",
    "\n",
    "t_w_1 = train[train['workingday'] == 1]\n",
    "t_w_1_0 = t_w_1.drop(columns = ['datetime', 'casual', 'registered', 'count'])\n",
    "t_w_1_y = t_w_1['count']\n",
    "t_w_1_y_log = np.log1p(t_w_1_y)"
   ]
  },
  {
   "cell_type": "code",
   "execution_count": 8,
   "id": "90938eac",
   "metadata": {},
   "outputs": [
    {
     "name": "stderr",
     "output_type": "stream",
     "text": [
      "C:\\Users\\sibuya yuuki\\miniconda3\\lib\\site-packages\\sklearn\\linear_model\\_coordinate_descent.py:530: ConvergenceWarning: Objective did not converge. You might want to increase the number of iterations. Duality gap: 3.0600518671794816, tolerance: 0.6123271051724647\n",
      "  model = cd_fast.enet_coordinate_descent(\n"
     ]
    },
    {
     "name": "stdout",
     "output_type": "stream",
     "text": [
      "1e-05\n",
      "Fold:1\n",
      "RMSLE: 0.9721919568441822\n",
      "17505.95740517213\n",
      "Fold:2\n",
      "RMSLE: 1.0041243258631338\n",
      "32182.266572409542\n",
      "Fold:3\n",
      "RMSLE: 0.9729998497891655\n",
      "19929.508564773987\n",
      "Fold:4\n",
      "RMSLE: 0.999785660037192\n",
      "23899.582877600445\n",
      "mean_score_RMSLE = 0.9872754481334184\n"
     ]
    }
   ],
   "source": [
    "# ENet 可視化(count log用)\n",
    "alphas = 10**np.linspace(-5, 10, 500)\n",
    "\n",
    "Elastic_cv = ElasticNetCV(alphas=alphas, cv=4)\n",
    "Elastic_cv.fit(t_w_0_0, t_w_0_y_log)\n",
    "print(Elastic_cv.alpha_)\n",
    "\n",
    "kf = KFold(n_splits=4, shuffle=True, random_state=1).split(t_w_0_0, t_w_0_y_log)\n",
    "kf_ = list(kf)\n",
    "\n",
    "cnt = 0\n",
    "sum = 0\n",
    "for trainK, testK in kf_:\n",
    "    cnt += 1\n",
    "    from sklearn.linear_model import ElasticNet,ElasticNetCV\n",
    "    Elastic = ElasticNet(alpha=Elastic_cv.alpha_)\n",
    "    Elastic.fit(train_0.loc[trainK], train_y_log.loc[trainK])\n",
    "    Elastic_train_y_pred_log = Elastic.predict(train_0.loc[testK])\n",
    "    y_pred = np.exp(Elastic_train_y_pred_log)-1\n",
    "    y_pred[y_pred < 0] = 0\n",
    "    y_true = train_y.loc[testK]\n",
    "    print(f\"Fold:{cnt}\")\n",
    "    print('RMSLE:', np.sqrt(mean_squared_log_error(y_true, y_pred)))\n",
    "    score = np.sqrt(mean_squared_log_error(y_true, y_pred))\n",
    "    sum += score\n",
    "    diff = y_true - y_pred\n",
    "    print(diff.sum())\n",
    "\n",
    "mean_score = sum / 4\n",
    "print(f\"mean_score_RMSLE = {mean_score}\")"
   ]
  },
  {
   "cell_type": "code",
   "execution_count": 11,
   "id": "406523ff",
   "metadata": {},
   "outputs": [
    {
     "data": {
      "text/html": [
       "<div>\n",
       "<style scoped>\n",
       "    .dataframe tbody tr th:only-of-type {\n",
       "        vertical-align: middle;\n",
       "    }\n",
       "\n",
       "    .dataframe tbody tr th {\n",
       "        vertical-align: top;\n",
       "    }\n",
       "\n",
       "    .dataframe thead th {\n",
       "        text-align: right;\n",
       "    }\n",
       "</style>\n",
       "<table border=\"1\" class=\"dataframe\">\n",
       "  <thead>\n",
       "    <tr style=\"text-align: right;\">\n",
       "      <th></th>\n",
       "      <th>season</th>\n",
       "      <th>holiday</th>\n",
       "      <th>workingday</th>\n",
       "      <th>weather</th>\n",
       "      <th>temp</th>\n",
       "      <th>atemp</th>\n",
       "      <th>humidity</th>\n",
       "      <th>windspeed</th>\n",
       "      <th>day</th>\n",
       "      <th>hour</th>\n",
       "      <th>weekday</th>\n",
       "      <th>year</th>\n",
       "      <th>month</th>\n",
       "    </tr>\n",
       "  </thead>\n",
       "  <tbody>\n",
       "  </tbody>\n",
       "</table>\n",
       "</div>"
      ],
      "text/plain": [
       "Empty DataFrame\n",
       "Columns: [season, holiday, workingday, weather, temp, atemp, humidity, windspeed, day, hour, weekday, year, month]\n",
       "Index: []"
      ]
     },
     "execution_count": 11,
     "metadata": {},
     "output_type": "execute_result"
    }
   ],
   "source": [
    "train_0[train_0.index == 3433]"
   ]
  },
  {
   "cell_type": "code",
   "execution_count": 9,
   "id": "b9afccc9",
   "metadata": {},
   "outputs": [
    {
     "data": {
      "text/plain": [
       "array([   0,    1,    2, ..., 3469, 3472, 3473])"
      ]
     },
     "execution_count": 9,
     "metadata": {},
     "output_type": "execute_result"
    }
   ],
   "source": [
    "train"
   ]
  },
  {
   "cell_type": "code",
   "execution_count": 9,
   "id": "b7af6aa9",
   "metadata": {},
   "outputs": [
    {
     "name": "stdout",
     "output_type": "stream",
     "text": [
      "0.0035901303770070683\n",
      "Fold:1\n",
      "RMSLE: 1.045663532683892\n",
      "64694.449289051816\n",
      "Fold:2\n",
      "RMSLE: 1.0045994860564593\n",
      "55774.73375240294\n",
      "Fold:3\n",
      "RMSLE: 1.018944669148241\n",
      "61180.48791337009\n",
      "Fold:4\n",
      "RMSLE: 1.0297734938142242\n",
      "68221.9938754146\n",
      "mean_score_RMSLE = 1.0247452954257041\n"
     ]
    }
   ],
   "source": [
    "# ENet 可視化(count log用)\n",
    "alphas = 10**np.linspace(-5, 10, 500)\n",
    "\n",
    "Elastic_cv = ElasticNetCV(alphas=alphas, cv=4)\n",
    "Elastic_cv.fit(t_w_1_0, t_w_1_y_log)\n",
    "print(Elastic_cv.alpha_)\n",
    "\n",
    "kf = KFold(n_splits=4, shuffle=True, random_state=1).split(t_w_1_0, t_w_1_y_log)\n",
    "kf_ = list(kf)\n",
    "\n",
    "cnt = 0\n",
    "sum = 0\n",
    "for trainK, testK in kf_:\n",
    "    cnt += 1\n",
    "    from sklearn.linear_model import ElasticNet,ElasticNetCV\n",
    "    Elastic = ElasticNet(alpha=Elastic_cv.alpha_)\n",
    "    Elastic.fit(train_0.loc[trainK], train_y_log.loc[trainK])\n",
    "    Elastic_train_y_pred_log = Elastic.predict(train_0.loc[testK])\n",
    "    y_pred = np.exp(Elastic_train_y_pred_log)-1\n",
    "    y_pred[y_pred < 0] = 0\n",
    "    y_true = train_y.loc[testK]\n",
    "    print(f\"Fold:{cnt}\")\n",
    "    print('RMSLE:', np.sqrt(mean_squared_log_error(y_true, y_pred)))\n",
    "    score = np.sqrt(mean_squared_log_error(y_true, y_pred))\n",
    "    sum += score\n",
    "    diff = y_true - y_pred\n",
    "    print(diff.sum())\n",
    "\n",
    "mean_score = sum / 4\n",
    "print(f\"mean_score_RMSLE = {mean_score}\")"
   ]
  },
  {
   "cell_type": "code",
   "execution_count": null,
   "id": "82f1776d",
   "metadata": {},
   "outputs": [],
   "source": []
  },
  {
   "cell_type": "code",
   "execution_count": null,
   "id": "c465e4cd",
   "metadata": {},
   "outputs": [],
   "source": []
  },
  {
   "cell_type": "code",
   "execution_count": null,
   "id": "cbae96f1",
   "metadata": {},
   "outputs": [],
   "source": []
  },
  {
   "cell_type": "code",
   "execution_count": null,
   "id": "6382ff90",
   "metadata": {},
   "outputs": [],
   "source": []
  },
  {
   "cell_type": "code",
   "execution_count": null,
   "id": "2afa17d1",
   "metadata": {},
   "outputs": [],
   "source": []
  },
  {
   "cell_type": "code",
   "execution_count": null,
   "id": "3c8e1415",
   "metadata": {},
   "outputs": [],
   "source": []
  },
  {
   "cell_type": "code",
   "execution_count": null,
   "id": "329db022",
   "metadata": {},
   "outputs": [],
   "source": []
  },
  {
   "cell_type": "code",
   "execution_count": null,
   "id": "25ffa380",
   "metadata": {},
   "outputs": [],
   "source": []
  },
  {
   "cell_type": "code",
   "execution_count": null,
   "id": "85765502",
   "metadata": {},
   "outputs": [],
   "source": []
  },
  {
   "cell_type": "code",
   "execution_count": null,
   "id": "22637fb5",
   "metadata": {},
   "outputs": [],
   "source": []
  },
  {
   "cell_type": "code",
   "execution_count": null,
   "id": "e883384b",
   "metadata": {},
   "outputs": [],
   "source": []
  },
  {
   "cell_type": "code",
   "execution_count": null,
   "id": "c86c6c8e",
   "metadata": {},
   "outputs": [],
   "source": []
  },
  {
   "cell_type": "code",
   "execution_count": null,
   "id": "33ee1713",
   "metadata": {},
   "outputs": [],
   "source": []
  },
  {
   "cell_type": "code",
   "execution_count": null,
   "id": "c83f1f22",
   "metadata": {},
   "outputs": [],
   "source": [
    "test_working_0 = test[test['workingday'] == 0]\n",
    "test_working_1 = test[test['workingday'] == 1]\n",
    "test_0 = test_working_0.drop(columns = ['datetime'])\n",
    "test_1 = test_working_1.drop(columns = ['datetime'])\n",
    "test_datetime_0 = test_working_0['datetime']\n",
    "test_datetime_1 = test_working_1['datetime']"
   ]
  }
 ],
 "metadata": {
  "kernelspec": {
   "display_name": "Python 3",
   "language": "python",
   "name": "python3"
  },
  "language_info": {
   "codemirror_mode": {
    "name": "ipython",
    "version": 3
   },
   "file_extension": ".py",
   "mimetype": "text/x-python",
   "name": "python",
   "nbconvert_exporter": "python",
   "pygments_lexer": "ipython3",
   "version": "3.9.5"
  }
 },
 "nbformat": 4,
 "nbformat_minor": 5
}
