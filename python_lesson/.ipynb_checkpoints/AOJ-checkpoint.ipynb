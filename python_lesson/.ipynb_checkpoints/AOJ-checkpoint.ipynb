{
 "cells": [
  {
   "cell_type": "code",
   "execution_count": null,
   "id": "f156db10",
   "metadata": {},
   "outputs": [],
   "source": [
    "#https://onlinejudge.u-aizu.ac.jp/courses/lesson/2/ITP1/all\n",
    "# ちょっと変えてる"
   ]
  },
  {
   "cell_type": "code",
   "execution_count": 2,
   "id": "b99e027d",
   "metadata": {},
   "outputs": [
    {
     "name": "stdout",
     "output_type": "stream",
     "text": [
      "Hello World\n"
     ]
    }
   ],
   "source": [
    "#1-A\n",
    "print('Hello World')"
   ]
  },
  {
   "cell_type": "code",
   "execution_count": 4,
   "id": "e7d47967",
   "metadata": {},
   "outputs": [
    {
     "name": "stdout",
     "output_type": "stream",
     "text": [
      "2\n",
      "8\n"
     ]
    }
   ],
   "source": [
    "#1-B\n",
    "x = int(input())\n",
    "print(x**3)"
   ]
  },
  {
   "cell_type": "code",
   "execution_count": 6,
   "id": "6db6eb72",
   "metadata": {},
   "outputs": [
    {
     "name": "stdout",
     "output_type": "stream",
     "text": [
      "2 5\n",
      "10 14\n"
     ]
    }
   ],
   "source": [
    "#1-C\n",
    "a, b = map(int, input().split())\n",
    "print(a*b, a*2 + b*2)"
   ]
  },
  {
   "cell_type": "code",
   "execution_count": 8,
   "id": "50d2786a",
   "metadata": {},
   "outputs": [
    {
     "name": "stdout",
     "output_type": "stream",
     "text": [
      "45345\n",
      "12:35:45\n"
     ]
    }
   ],
   "source": [
    "#1-D\n",
    "a = int(input())\n",
    "b = a // 3600\n",
    "c = a % 3600\n",
    "d = c // 60\n",
    "e = c % 60\n",
    "print(f'{b}:{d}:{e}')"
   ]
  },
  {
   "cell_type": "code",
   "execution_count": 10,
   "id": "282faf5a",
   "metadata": {},
   "outputs": [
    {
     "name": "stdout",
     "output_type": "stream",
     "text": [
      "45 76\n",
      "45 < 76\n"
     ]
    }
   ],
   "source": [
    "#2-A\n",
    "a, b = map(int, input().split())\n",
    "if a < b :\n",
    "    print(f'{a} < {b}')\n",
    "elif a > b :\n",
    "    print(f'{a} > {b}')\n",
    "elif a == b :\n",
    "    print(f'{a} == {b}')"
   ]
  },
  {
   "cell_type": "code",
   "execution_count": 11,
   "id": "6ee6b1ad",
   "metadata": {},
   "outputs": [
    {
     "name": "stdout",
     "output_type": "stream",
     "text": [
      "3 6 54\n",
      "Yes\n"
     ]
    }
   ],
   "source": [
    "#2-B\n",
    "# a, b, c = [int(i) for i in input().split()]\n",
    "a, b, c = map(int, input().split())\n",
    "if a < b < c :\n",
    "    print('Yes')\n",
    "else :\n",
    "    print('No')"
   ]
  },
  {
   "cell_type": "code",
   "execution_count": 12,
   "id": "53b51d05",
   "metadata": {},
   "outputs": [
    {
     "name": "stdout",
     "output_type": "stream",
     "text": [
      "34 23 54\n",
      "23 34 54\n"
     ]
    }
   ],
   "source": [
    "#2-C\n",
    "a, b, c = map(int, input().split())\n",
    "if a > b :\n",
    "    a, b = b, a\n",
    "if a > c :\n",
    "    a, c = c, a\n",
    "if b > c :\n",
    "    b, c = c, b\n",
    "print(a, b, c)"
   ]
  },
  {
   "cell_type": "code",
   "execution_count": null,
   "id": "695d729b",
   "metadata": {},
   "outputs": [],
   "source": [
    "#2-D\n",
    "W, H, x, y, r = map(int, input().split())\n",
    "if x < 0 or y < 0 :\n",
    "    print('No')\n",
    "elif x + r > W or y + r > H :\n",
    "    print('No')\n",
    "else :\n",
    "    print('Yes')"
   ]
  },
  {
   "cell_type": "code",
   "execution_count": 13,
   "id": "b80c44d0",
   "metadata": {},
   "outputs": [
    {
     "name": "stdout",
     "output_type": "stream",
     "text": [
      "Hello World\n",
      "Hello World\n",
      "Hello World\n",
      "Hello World\n",
      "Hello World\n",
      "Hello World\n",
      "Hello World\n",
      "Hello World\n",
      "Hello World\n",
      "Hello World\n"
     ]
    }
   ],
   "source": [
    "#3-A\n",
    "for i in range(10):\n",
    "    print(\"Hello World\")"
   ]
  },
  {
   "cell_type": "code",
   "execution_count": 14,
   "id": "5fa4e9ce",
   "metadata": {},
   "outputs": [
    {
     "name": "stdout",
     "output_type": "stream",
     "text": [
      "3\n",
      "Case 1: 3\n",
      "4\n",
      "Case 2: 4\n",
      "0\n"
     ]
    }
   ],
   "source": [
    "#3-B\n",
    "for i in range(10000):\n",
    "    a = int(input())\n",
    "    if a == 0:\n",
    "        break\n",
    "    print(f\"Case {i+1}: {a}\")"
   ]
  },
  {
   "cell_type": "code",
   "execution_count": 15,
   "id": "d7a08176",
   "metadata": {},
   "outputs": [
    {
     "name": "stdout",
     "output_type": "stream",
     "text": [
      "23 56\n",
      "23 56\n",
      "56 34\n",
      "34 56\n",
      "0 0\n"
     ]
    }
   ],
   "source": [
    "#3-C\n",
    "for i in range(10):\n",
    "    a, b = map(int, input().split())\n",
    "    if a == 0 and b == 0:\n",
    "        break\n",
    "    elif a > b:\n",
    "        print(f\"{b} {a}\")\n",
    "    else:\n",
    "        print(f\"{a} {b}\")"
   ]
  },
  {
   "cell_type": "code",
   "execution_count": 16,
   "id": "c9355bbe",
   "metadata": {},
   "outputs": [
    {
     "name": "stdout",
     "output_type": "stream",
     "text": [
      "3 5 80\n",
      "2\n"
     ]
    }
   ],
   "source": [
    "#3-D\n",
    "a, b, c = map(int, input().split())\n",
    "num = 0\n",
    "for i in range(a, b+1):\n",
    "    if c%i == 0:\n",
    "        num += 1\n",
    "print(num)"
   ]
  },
  {
   "cell_type": "code",
   "execution_count": 18,
   "id": "080fc2c4",
   "metadata": {},
   "outputs": [
    {
     "name": "stdout",
     "output_type": "stream",
     "text": [
      "56 9\n",
      "syou 6  amari 2  syousuu 6.22222\n"
     ]
    }
   ],
   "source": [
    "#4-A\n",
    "def cal(a, b):\n",
    "    d = a // b\n",
    "    r = a % b\n",
    "    f = float(a / b)\n",
    "    return d, r, f\n",
    "n, m = map(int, input().split())\n",
    "d, r, f = cal(n, m)\n",
    "print(f\"syou {d}  amari {r}  syousuu {f:.5f}\")"
   ]
  },
  {
   "cell_type": "code",
   "execution_count": 19,
   "id": "2c40c4cc",
   "metadata": {},
   "outputs": [
    {
     "name": "stdout",
     "output_type": "stream",
     "text": [
      "3\n",
      "menseki 28.274334  syuu 18.849556\n"
     ]
    }
   ],
   "source": [
    "#4-B\n",
    "import math\n",
    "def circle(r):\n",
    "    area = r * r * math.pi\n",
    "    around = 2 * r * math.pi\n",
    "    return area, around\n",
    "r = float(input())\n",
    "area, around = circle(r)\n",
    "print(f\"menseki {area:.6f}  syuu {around:.6f}\")"
   ]
  },
  {
   "cell_type": "code",
   "execution_count": 20,
   "id": "78a8e739",
   "metadata": {},
   "outputs": [
    {
     "name": "stdout",
     "output_type": "stream",
     "text": [
      "3 + 6\n",
      "9\n",
      "0 ? 0\n"
     ]
    }
   ],
   "source": [
    "#4-C\n",
    "def cal(a, op, b):\n",
    "    a = int(a)\n",
    "    b = int(b)\n",
    "    if op == \"+\":\n",
    "        r = a + b\n",
    "    elif op == \"-\":\n",
    "        r = a - b\n",
    "    elif op == \"*\":\n",
    "        r = a * b\n",
    "    elif op == \"/\":\n",
    "        r = a / b\n",
    "        r = int(r)\n",
    "    return r\n",
    "for i in range(10):\n",
    "    a, op, b = input().split()\n",
    "    if op == \"?\":\n",
    "        break\n",
    "    else:\n",
    "        r = cal(a, op, b)\n",
    "    print(r)"
   ]
  },
  {
   "cell_type": "code",
   "execution_count": 21,
   "id": "c40d9386",
   "metadata": {},
   "outputs": [
    {
     "name": "stdout",
     "output_type": "stream",
     "text": [
      "3 4 2 6\n",
      "2 6 15\n"
     ]
    }
   ],
   "source": [
    "#4-D\n",
    "list = list(map(int, input().split()))\n",
    "a = min(list)\n",
    "b = max(list)\n",
    "c = sum(list)\n",
    "print(a, b, c)"
   ]
  },
  {
   "cell_type": "code",
   "execution_count": 22,
   "id": "99ed45a8",
   "metadata": {},
   "outputs": [
    {
     "name": "stdout",
     "output_type": "stream",
     "text": [
      "3 4\n",
      "####\n",
      "####\n",
      "####\n",
      "\n",
      "0 0\n"
     ]
    }
   ],
   "source": [
    "#5-A\n",
    "while True:\n",
    "    a, b=map(int, input().split())\n",
    "    if a==0 and b==0:\n",
    "        break\n",
    "    for i in range (a):\n",
    "        print('#'*b)\n",
    "    print()"
   ]
  },
  {
   "cell_type": "code",
   "execution_count": 23,
   "id": "cc8319b9",
   "metadata": {},
   "outputs": [
    {
     "name": "stdout",
     "output_type": "stream",
     "text": [
      "5 4\n",
      "####\n",
      "#..#\n",
      "#..#\n",
      "#..#\n",
      "####\n",
      "\n",
      "0 0\n"
     ]
    }
   ],
   "source": [
    "#5-B\n",
    "while True:\n",
    "    a, b=map(int, input().split())\n",
    "    if a==0 and b==0:\n",
    "        break\n",
    "    f=[[0 for i in range(b)]for j in range(a)]\n",
    "    for i in range(a):\n",
    "        for j in range(b):\n",
    "            if i==0 or i==a-1 or j==0 or j==b-1:\n",
    "                f[i][j]=1\n",
    "    for i in range(a):\n",
    "        for j in range(b):\n",
    "            if f[i][j]==1:\n",
    "                print('#',end='')\n",
    "            else :\n",
    "                print('.',end='')\n",
    "        print()\n",
    "    print()"
   ]
  },
  {
   "cell_type": "code",
   "execution_count": 24,
   "id": "78d9908a",
   "metadata": {},
   "outputs": [
    {
     "name": "stdout",
     "output_type": "stream",
     "text": [
      "3 4\n",
      "#.#.\n",
      ".#.#\n",
      "#.#.\n",
      "\n",
      "0 0\n"
     ]
    }
   ],
   "source": [
    "#5-C\n",
    "while True:\n",
    "    H, W = map(int, input().split())\n",
    "    if H == 0 and W == 0:\n",
    "        break\n",
    "    f = [[0 for i in range(W)] for j in range(H)]\n",
    "    for i in range(H):\n",
    "        for j in range(W):\n",
    "            a = i + j\n",
    "            if a % 2 == 0:\n",
    "                f[i][j] = 1\n",
    "    for i in range(H):\n",
    "        for j in range(W):\n",
    "            if f[i][j] == 1:\n",
    "                print(\"#\", end = \"\")\n",
    "            else:\n",
    "                print(\".\", end = \"\")\n",
    "        print()\n",
    "    print()"
   ]
  },
  {
   "cell_type": "code",
   "execution_count": 25,
   "id": "213ad65e",
   "metadata": {},
   "outputs": [
    {
     "name": "stdout",
     "output_type": "stream",
     "text": [
      "30\n",
      "  3 6 9 12 13 15 18 21 23 24 27 30 "
     ]
    }
   ],
   "source": [
    "#5-D\n",
    "x = int(input())\n",
    "print(\" \", end = \" \")\n",
    "for i in range(1, x+1):\n",
    "    if i % 3 == 0:\n",
    "        print(i, end = \" \")\n",
    "    elif \"3\" in str(i):\n",
    "        print(i, end = \" \")"
   ]
  },
  {
   "cell_type": "code",
   "execution_count": 26,
   "id": "4f3c61dc",
   "metadata": {},
   "outputs": [
    {
     "name": "stdout",
     "output_type": "stream",
     "text": [
      "3 6 3 8\n",
      "8 3 6 3\n"
     ]
    }
   ],
   "source": [
    "#6-A\n",
    "list = [int(i) for i in input().split()]\n",
    "list.reverse()  #list反転\n",
    "print(\" \".join(map(str, list)))"
   ]
  },
  {
   "cell_type": "code",
   "execution_count": null,
   "id": "531cb211",
   "metadata": {},
   "outputs": [],
   "source": [
    "#6-B\n",
    "pattern = [\"S\",\"H\",\"C\",\"D\"]\n",
    "n = int(input())\n",
    "cards = [[False for j in range(13)] for i in range(4)]\n",
    "for i in range(n):\n",
    "    mark, num = input().split()\n",
    "    num = int(num)\n",
    "    cards[pattern.index(mark)][num - 1] = True\n",
    "for i in range(4):\n",
    "    for j in range(13):\n",
    "        if cards[i][j] == False:\n",
    "            print(pattern[i], j+1)"
   ]
  },
  {
   "cell_type": "code",
   "execution_count": null,
   "id": "f87c12dd",
   "metadata": {},
   "outputs": [],
   "source": [
    "#6-C\n",
    "n = int(input())\n",
    "rooms = [[[0 for x in range(10)] for y in range(3)] for z in range(4)]\n",
    "for i in range(n):\n",
    "    b, f, r, v = map(int, input().split())\n",
    "    rooms[b - 1][f - 1][r - 1] += v\n",
    "for z in range(4):\n",
    "    for y in range(3):\n",
    "        print(\" \" + \" \".join(map(str, rooms[z][y])))\n",
    "    if z != 3:\n",
    "        print(\"#\"*20) "
   ]
  },
  {
   "cell_type": "code",
   "execution_count": null,
   "id": "71b5cf5d",
   "metadata": {},
   "outputs": [],
   "source": [
    "#6-D\n",
    "n, m = map(int, input().split())\n",
    "a = [list(map(int, input().split())) for i in range(n)]\n",
    "b = [0] * m\n",
    "for i in range(m):\n",
    "    b[i] = int(input())\n",
    "c = [0] * n\n",
    "for i in range(n):\n",
    "    for j in range(m):\n",
    "        c[i] += a[i][j] * b[j]\n",
    "for i in range(n):\n",
    "    print(c[i]) "
   ]
  },
  {
   "cell_type": "code",
   "execution_count": null,
   "id": "3776001f",
   "metadata": {},
   "outputs": [],
   "source": [
    "#7-A\n",
    "def eval(m, f, r):\n",
    "    if m == -1 or f == -1:\n",
    "        grade = \"F\"\n",
    "    else:\n",
    "        if m + f >= 80:\n",
    "            grade = \"A\"\n",
    "        elif 65 <= m + f < 80:\n",
    "            grade = \"B\"\n",
    "        elif 50 <= m + f < 65:\n",
    "            grade = \"C\"\n",
    "        elif 30 <= m + f < 50:\n",
    "            if r >= 50:\n",
    "                grade = \"C\"\n",
    "            else:\n",
    "                grade = \"D\"\n",
    "        else:\n",
    "            grade = \"F\"\n",
    "    return grade\n",
    "for i in range(1000):\n",
    "    m, f, r = map(int, input().split())\n",
    "    if m == -1 and f == -1 and r == -1:\n",
    "        break\n",
    "    else:\n",
    "        grade = eval(m, f, r)\n",
    "    print(grade)"
   ]
  },
  {
   "cell_type": "code",
   "execution_count": null,
   "id": "c8554c5d",
   "metadata": {},
   "outputs": [],
   "source": [
    "#7-B\n",
    "import itertools\n",
    "for i in range(10000):\n",
    "    n, x = map(int, input().split())\n",
    "    if n == 0 and x == 0 :\n",
    "        break\n",
    "    else:\n",
    "        all_list = list(range(1,n + 1))\n",
    "        c = itertools.combinations(all_list,3)\n",
    "        c_list = list(c)\n",
    "        num = 0\n",
    "        for i in c_list:\n",
    "            if sum(i) == x:\n",
    "                num += 1\n",
    "        print(num)"
   ]
  },
  {
   "cell_type": "code",
   "execution_count": null,
   "id": "a704b992",
   "metadata": {},
   "outputs": [],
   "source": [
    "#7-C\n",
    "r, c = map(int, input().split())\n",
    "list = []\n",
    "list2= []\n",
    "for i in range(r):\n",
    "    list1 = [int(i) for i in input().split()]\n",
    "    list.append(list1)\n",
    "for i in list:\n",
    "    for j in i:\n",
    "        print(j, end=' ')\n",
    "    print(sum(i))\n",
    "sum1 = 0\n",
    "for i in range(c):\n",
    "    sum = 0\n",
    "    for k in list:\n",
    "        sum += k[i]\n",
    "    sum1 += sum\n",
    "    print(sum, end=' ')\n",
    "print(sum1)"
   ]
  },
  {
   "cell_type": "code",
   "execution_count": null,
   "id": "ea77cec2",
   "metadata": {},
   "outputs": [],
   "source": [
    "#7-D\n",
    "n, m, l= map(int, input().split())\n",
    "a = [list(map(int, input().split())) for i in range(n)] \n",
    "b = [list(map(int, input().split())) for i in range(m)]\n",
    "c = [[0] * l for i in range(n)]\n",
    "for i in range(n):\n",
    "    for j in range(l):\n",
    "        for k in range(m):\n",
    "            c[i][j] += a[i][k] * b[k][j]\n",
    "for i in range(n):\n",
    "    for j in range(l):\n",
    "        if j != 0:\n",
    "            print(\" \", end='')\n",
    "        print(c[i][j], end='')\n",
    "    print()"
   ]
  },
  {
   "cell_type": "code",
   "execution_count": 27,
   "id": "74cfd0f0",
   "metadata": {},
   "outputs": [
    {
     "name": "stdout",
     "output_type": "stream",
     "text": [
      "WerfTGyh\n",
      "wERFtgYH\n"
     ]
    }
   ],
   "source": [
    "#8-A\n",
    "str = input()\n",
    "print(str.swapcase())"
   ]
  },
  {
   "cell_type": "code",
   "execution_count": null,
   "id": "439606ed",
   "metadata": {},
   "outputs": [],
   "source": [
    "#8-B\n",
    "for i in range(10000):\n",
    "    x = input()\n",
    "    sum = 0\n",
    "    if x == \"0\":\n",
    "        break\n",
    "    for d in x:\n",
    "        sum += int(d)\n",
    "    print(sum)"
   ]
  },
  {
   "cell_type": "code",
   "execution_count": null,
   "id": "9f651b99",
   "metadata": {},
   "outputs": [],
   "source": [
    "#8-C\n",
    "import sys\n",
    "p = sys.stdin.readlines()\n",
    "l = \"\"\n",
    "for i in range(len(p)):\n",
    "    l += str(p[i])\n",
    "l = l.lower()\n",
    "for i in \"abcdefghijklmnopqrstuvwxyz\":\n",
    "    count = l.count(i)\n",
    "    print(f\"{i} : {count}\")"
   ]
  },
  {
   "cell_type": "code",
   "execution_count": null,
   "id": "107a12c1",
   "metadata": {},
   "outputs": [],
   "source": [
    "#8-D\n",
    "s = input()\n",
    "p = input()\n",
    "ss = s * 2\n",
    "if p in ss:\n",
    "    print(\"Yes\")\n",
    "else:\n",
    "    print(\"No\")"
   ]
  },
  {
   "cell_type": "code",
   "execution_count": null,
   "id": "ea8fa8f3",
   "metadata": {},
   "outputs": [],
   "source": [
    "#9-A\n",
    "W = input().lower()\n",
    "ans = 0\n",
    "while True:\n",
    "    T = input()\n",
    "    if T == \"END_OF_TEXT\":\n",
    "        break\n",
    "    ans += T.lower().split().count(W)\n",
    "print(ans)"
   ]
  },
  {
   "cell_type": "code",
   "execution_count": null,
   "id": "c782b30b",
   "metadata": {},
   "outputs": [],
   "source": [
    "#9-B\n",
    "for i in range(10000):  \n",
    "    word = input()\n",
    "    if word == \"-\":\n",
    "        break\n",
    "    m = int(input())\n",
    "    for i in range(m):\n",
    "        h = int(input())\n",
    "        front = word[0:h]\n",
    "        back = word[h:]\n",
    "        word = back + front\n",
    "    print(word)"
   ]
  },
  {
   "cell_type": "code",
   "execution_count": null,
   "id": "2628eb1c",
   "metadata": {},
   "outputs": [],
   "source": [
    "#9-C\n",
    "n = int(input())\n",
    "T_point = 0\n",
    "H_point = 0\n",
    "for i in range(n):\n",
    "    T_card, H_card = input().split()\n",
    "    if T_card < H_card:\n",
    "        H_point += 3\n",
    "    elif T_card > H_card:\n",
    "        T_point += 3\n",
    "    elif T_card == H_card:\n",
    "        T_point += 1\n",
    "        H_point += 1\n",
    "print(T_point, H_point)"
   ]
  },
  {
   "cell_type": "code",
   "execution_count": null,
   "id": "cd4fecb7",
   "metadata": {},
   "outputs": [],
   "source": [
    "#9-D\n",
    "word = input()\n",
    "q = int(input())\n",
    "for i in range(q):\n",
    "    com = list(input().split())\n",
    "    ord = com[0]\n",
    "    if ord == \"print\":\n",
    "        a = int(com[1])\n",
    "        b = int(com[2])\n",
    "        print(word[a:b+1])\n",
    "    elif ord == \"reverse\":\n",
    "        a = int(com[1])\n",
    "        b = int(com[2])\n",
    "        f = word[:a]\n",
    "        m = word[a:b+1]\n",
    "        b = word[b+1:]\n",
    "        m = m[::-1]\n",
    "        word = f + m + b\n",
    "    elif ord == \"replace\":\n",
    "        a = int(com[1])\n",
    "        b = int(com[2])\n",
    "        c = com[3]\n",
    "        f = word[:a]\n",
    "        m = c\n",
    "        b = word[b+1:]\n",
    "        word = f + m + b"
   ]
  },
  {
   "cell_type": "code",
   "execution_count": null,
   "id": "f47c7006",
   "metadata": {},
   "outputs": [],
   "source": [
    "#10-A\n",
    "import math\n",
    "x1, y1, x2, y2 = map(float, input().split())\n",
    "dis2 = (x2 - x1)**2 + (y2 - y1)**2\n",
    "print(math.sqrt(dis2))"
   ]
  },
  {
   "cell_type": "code",
   "execution_count": null,
   "id": "b25d6a40",
   "metadata": {},
   "outputs": [],
   "source": [
    "#10-B\n",
    "import math\n",
    "a, b, C = map(int, input().split())\n",
    "S = a * b * math.sin(C*math.pi/180) / 2\n",
    "c = math.sqrt(a**2 + b**2 - 2*a*b*math.cos(C*math.pi/180))\n",
    "L = a + b + c\n",
    "h = 2 * S / a\n",
    "print(S)\n",
    "print(L)\n",
    "print(h)"
   ]
  },
  {
   "cell_type": "code",
   "execution_count": null,
   "id": "7d31f9ca",
   "metadata": {},
   "outputs": [],
   "source": [
    "#10-C\n",
    "import math\n",
    "while True:\n",
    "    n = int(input())\n",
    "    if n == 0:\n",
    "        break\n",
    "    stu = list(map(int, input().split()))\n",
    "    #ここがrange(n)になる。\n",
    "    sum = 0\n",
    "    for s in stu:\n",
    "        sum += s\n",
    "    ave = sum / n\n",
    "    a=0\n",
    "    for s in stu:\n",
    "        dif = s - ave\n",
    "        a += dif**2\n",
    "    var = a / n\n",
    "    dev = math.sqrt(var)\n",
    "    print(f'{dev:.5f}')"
   ]
  },
  {
   "cell_type": "code",
   "execution_count": null,
   "id": "b3ed1b10",
   "metadata": {},
   "outputs": [],
   "source": [
    "#10-D\n",
    "import math\n",
    "n = int(input())\n",
    "x = list(map(int, input().split()))\n",
    "y = list(map(int, input().split()))\n",
    "#もしくはrange(n)\n",
    "d1 = 0.0\n",
    "d2 = 0.0\n",
    "d3 = 0.0\n",
    "d_inf = 0.0\n",
    "for i in range(n):\n",
    "    dif = abs(x[i]-y[i])\n",
    "    d1 += dif\n",
    "    d2 += math.pow(dif, 2)\n",
    "    d3 += math.pow(dif, 3)\n",
    "    d_inf = max(d_inf, dif)\n",
    "d2 = math.pow(d2, 1/2.0)\n",
    "d3 = math.pow(d3, 1/3.0)\n",
    "print(f'{d1:.6f}')\n",
    "print(f'{d2:.6f}')\n",
    "print(f'{d3:.6f}')\n",
    "print(f'{d_inf:.6f}')\n",
    "#ミンコフスキー距離\n",
    "#マンハッタン距離\n",
    "#ユークリッド距離\n",
    "#チェビシェフ距離"
   ]
  },
  {
   "cell_type": "code",
   "execution_count": null,
   "id": "a4571f28",
   "metadata": {},
   "outputs": [],
   "source": [
    "#11-A\n",
    "class dice:\n",
    "    def __init__(self, label):\n",
    "        self.a, self.b, self.c, self.d, self.e, self.f = label\n",
    "    def play(self, op):\n",
    "        if op == \"N\":\n",
    "            self.a, self.b, self.e, self.f = self.b, self.f, self.a, self.e\n",
    "        elif op == \"S\":\n",
    "            self.a, self.b, self.e, self.f = self.e, self.a, self.f, self.b\n",
    "        elif op == \"E\":\n",
    "            self.a, self.c, self.d, self.f = self.d, self.a, self.f, self.c\n",
    "        elif op == \"W\":\n",
    "            self.a, self.c, self.d, self.f = self.c, self.f, self.a, self.d\n",
    "    def pri(self):\n",
    "        print(self.a)\n",
    "label = list(map(int, input().split()))\n",
    "oplist = list(input())\n",
    "d = dice(label)\n",
    "for op in oplist:\n",
    "    d.play(op)\n",
    "d.pri()"
   ]
  },
  {
   "cell_type": "code",
   "execution_count": null,
   "id": "6ffcd7a1",
   "metadata": {},
   "outputs": [],
   "source": []
  }
 ],
 "metadata": {
  "kernelspec": {
   "display_name": "Python 3 (ipykernel)",
   "language": "python",
   "name": "python3"
  },
  "language_info": {
   "codemirror_mode": {
    "name": "ipython",
    "version": 3
   },
   "file_extension": ".py",
   "mimetype": "text/x-python",
   "name": "python",
   "nbconvert_exporter": "python",
   "pygments_lexer": "ipython3",
   "version": "3.9.5"
  }
 },
 "nbformat": 4,
 "nbformat_minor": 5
}
